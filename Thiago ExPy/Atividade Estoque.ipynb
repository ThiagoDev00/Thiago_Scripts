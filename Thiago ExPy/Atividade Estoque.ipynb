{
 "cells": [
  {
   "cell_type": "code",
   "execution_count": 8,
   "id": "1eafeda2",
   "metadata": {},
   "outputs": [
    {
     "name": "stdout",
     "output_type": "stream",
     "text": [
      "Digite o Nome produto: \n",
      "Digite a categoria do produto: \n",
      "Digite a Q° no Estoque: \n"
     ]
    },
    {
     "ename": "ValueError",
     "evalue": "invalid literal for int() with base 10: ''",
     "output_type": "error",
     "traceback": [
      "\u001b[1;31m---------------------------------------------------------------------------\u001b[0m",
      "\u001b[1;31mValueError\u001b[0m                                Traceback (most recent call last)",
      "\u001b[1;32m~\\AppData\\Local\\Temp/ipykernel_20608/2621245443.py\u001b[0m in \u001b[0;36m<module>\u001b[1;34m\u001b[0m\n\u001b[0;32m      1\u001b[0m \u001b[0mproduto\u001b[0m \u001b[1;33m=\u001b[0m \u001b[0minput\u001b[0m\u001b[1;33m(\u001b[0m\u001b[0mstr\u001b[0m\u001b[1;33m(\u001b[0m\u001b[1;34m\"Digite o Nome produto: \"\u001b[0m\u001b[1;33m)\u001b[0m\u001b[1;33m)\u001b[0m\u001b[1;33m\u001b[0m\u001b[1;33m\u001b[0m\u001b[0m\n\u001b[0;32m      2\u001b[0m \u001b[0mcategoria\u001b[0m \u001b[1;33m=\u001b[0m \u001b[0minput\u001b[0m\u001b[1;33m(\u001b[0m\u001b[0mstr\u001b[0m\u001b[1;33m(\u001b[0m\u001b[1;34m\"Digite a categoria do produto: \"\u001b[0m\u001b[1;33m)\u001b[0m\u001b[1;33m)\u001b[0m\u001b[1;33m\u001b[0m\u001b[1;33m\u001b[0m\u001b[0m\n\u001b[1;32m----> 3\u001b[1;33m \u001b[0mqt_Estoque\u001b[0m \u001b[1;33m=\u001b[0m \u001b[0mint\u001b[0m\u001b[1;33m(\u001b[0m\u001b[0minput\u001b[0m\u001b[1;33m(\u001b[0m\u001b[1;34m\"Digite a Q° no Estoque: \"\u001b[0m\u001b[1;33m)\u001b[0m\u001b[1;33m)\u001b[0m\u001b[1;33m\u001b[0m\u001b[1;33m\u001b[0m\u001b[0m\n\u001b[0m\u001b[0;32m      4\u001b[0m \u001b[1;33m\u001b[0m\u001b[0m\n\u001b[0;32m      5\u001b[0m \u001b[0malimentos\u001b[0m \u001b[1;33m=\u001b[0m \u001b[1;33m[\u001b[0m\u001b[1;34m\"Arroz\"\u001b[0m\u001b[1;33m,\u001b[0m \u001b[1;34m\"feijão\"\u001b[0m\u001b[1;33m,\u001b[0m \u001b[1;34m\"macarrão\"\u001b[0m\u001b[1;33m,\u001b[0m \u001b[1;34m\"açúca\"\u001b[0m\u001b[1;33m,\u001b[0m \u001b[1;34m\"café\"\u001b[0m\u001b[1;33m,\u001b[0m\u001b[1;34m\"carne\"\u001b[0m\u001b[1;33m]\u001b[0m\u001b[1;33m\u001b[0m\u001b[1;33m\u001b[0m\u001b[0m\n",
      "\u001b[1;31mValueError\u001b[0m: invalid literal for int() with base 10: ''"
     ]
    }
   ],
   "source": [
    "produto = input(str(\"Digite o Nome produto: \"))\n",
    "categoria = input(str(\"Digite a categoria do produto: \"))\n",
    "qt_Estoque = int(input(\"Digite a Q° no Estoque: \"))\n",
    "\n",
    "alimentos = [\"Arroz\", \"feijão\", \"macarrão\", \"açúca\", \"café\",\"carne\"]\n",
    "\n",
    "bebidas = [\"guaraná\", \"coca-cola\",\"magistral\", \"real\", \"pepsi\"]\n",
    "\n",
    "limpeza = [\"desinfetante\", \"água sanitária\", \"sabão em pó\"]\n",
    "\n",
    "if (produto in alimentos) and (categoria == \"alimentos\") and (qt_Estoque >= 50):\n",
    "    print(f\"Temos {produto} suficiente, no estoque temos {qt_Estoque} unidades\")\n",
    "\n",
    "elif (produto in bebidas) and (categoria == \"bebidas\") and (qt_Estoque >= 60):\n",
    "    print(f\"Temos {produto} suficiente, no estoque temos {qt_Estoque} unidades\")\n",
    "\n",
    "elif (produto in limpeza) and (categoria == \"limpeza\") and (qt_Estoque >= 30):\n",
    "    print(f\"Temos {produto} suficiente, no estoque temos {qt_Estoque} unidades\")\n",
    "\n",
    "elif (qt_Estoque < 50):\n",
    "    print(f\"Solicitar {produto} à equipe de compras, temos apenas {qt_Estoque} em estoque\")\n",
    "\n",
    "elif produto == \"\" or categoria == \"\" or qt_Estoque == \"\":\n",
    "    print(\"Você não respondeu alguma pergunta!\")\n",
    "    \n"
   ]
  },
  {
   "cell_type": "code",
   "execution_count": null,
   "id": "0600ea7b",
   "metadata": {},
   "outputs": [],
   "source": []
  },
  {
   "cell_type": "code",
   "execution_count": null,
   "id": "6dc72e96",
   "metadata": {},
   "outputs": [],
   "source": []
  }
 ],
 "metadata": {
  "kernelspec": {
   "display_name": "Python 3 (ipykernel)",
   "language": "python",
   "name": "python3"
  },
  "language_info": {
   "codemirror_mode": {
    "name": "ipython",
    "version": 3
   },
   "file_extension": ".py",
   "mimetype": "text/x-python",
   "name": "python",
   "nbconvert_exporter": "python",
   "pygments_lexer": "ipython3",
   "version": "3.9.7"
  }
 },
 "nbformat": 4,
 "nbformat_minor": 5
}
