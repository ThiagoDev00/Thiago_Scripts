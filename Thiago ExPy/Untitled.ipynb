{
 "cells": [
  {
   "cell_type": "code",
   "execution_count": 8,
   "id": "4ab1e0a0",
   "metadata": {},
   "outputs": [
    {
     "name": "stdout",
     "output_type": "stream",
     "text": [
      "Digite nome de usuario: thiago879\n",
      "Crie uma senha: ta150894\n",
      "Confirme a senha: ta150894\n",
      "Erro! o nome deve conter apenas letras!.\n",
      "Ok, sua senha foi aceita.\n"
     ]
    }
   ],
   "source": [
    "login_nome = input(str(\"Digite nome de usuario: \"))\n",
    "senha = input(str(\"Crie uma senha: \"))\n",
    "confirme_senha = input(str(\"Confirme a senha: \"))\n",
    "numeros = (\"0123456789!@#$%¨&&*=+-_´´`´~^:;<>\")\n",
    "\n",
    "if numeros in rg_nome:\n",
    "    print(\"Ok, o nome de usuário é o seu login!\")\n",
    "else:\n",
    "    print(\"Erro! o nome deve conter apenas letras!.\")\n",
    "if senha != confirme_senha:\n",
    "    print(\"Erro! a senhas não batem!\")\n",
    "else:\n",
    "    print(\"Ok, sua senha foi aceita.\")\n"
   ]
  },
  {
   "cell_type": "code",
   "execution_count": null,
   "id": "ae9da3c2",
   "metadata": {},
   "outputs": [],
   "source": []
  },
  {
   "cell_type": "code",
   "execution_count": null,
   "id": "c835f34c",
   "metadata": {},
   "outputs": [],
   "source": []
  }
 ],
 "metadata": {
  "kernelspec": {
   "display_name": "Python 3 (ipykernel)",
   "language": "python",
   "name": "python3"
  },
  "language_info": {
   "codemirror_mode": {
    "name": "ipython",
    "version": 3
   },
   "file_extension": ".py",
   "mimetype": "text/x-python",
   "name": "python",
   "nbconvert_exporter": "python",
   "pygments_lexer": "ipython3",
   "version": "3.9.7"
  }
 },
 "nbformat": 4,
 "nbformat_minor": 5
}
