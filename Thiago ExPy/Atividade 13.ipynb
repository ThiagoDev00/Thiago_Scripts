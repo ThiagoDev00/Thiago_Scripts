{
 "cells": [
  {
   "cell_type": "code",
   "execution_count": 14,
   "id": "7a215a04",
   "metadata": {
    "scrolled": true
   },
   "outputs": [
    {
     "name": "stdout",
     "output_type": "stream",
     "text": [
      "Usuário: thia\n",
      "Senha: 1456\n",
      "Confirme a senha: 10988\n",
      "Senha NÃO confirmada!\n"
     ]
    }
   ],
   "source": [
    "login = input(str(\"Usuário: \")).strip()\n",
    "senha = int(input(\"Senha: \"))\n",
    "confirme_senha = int(input(\"Confirme a senha: \"))\n",
    "\n",
    "if (senha == confirme_senha):\n",
    "    print(\"Senha confirmada com SUCESSO!\")\n",
    "    print(f\"usuário: {login}\\nSenha  :{senha}\")\n",
    "else:\n",
    "    print(\"Senha NÃO confirmada!\")\n",
    "    \n"
   ]
  },
  {
   "cell_type": "code",
   "execution_count": null,
   "id": "cd428b98",
   "metadata": {},
   "outputs": [],
   "source": []
  },
  {
   "cell_type": "code",
   "execution_count": null,
   "id": "afa7eeb0",
   "metadata": {},
   "outputs": [],
   "source": []
  }
 ],
 "metadata": {
  "kernelspec": {
   "display_name": "Python 3 (ipykernel)",
   "language": "python",
   "name": "python3"
  },
  "language_info": {
   "codemirror_mode": {
    "name": "ipython",
    "version": 3
   },
   "file_extension": ".py",
   "mimetype": "text/x-python",
   "name": "python",
   "nbconvert_exporter": "python",
   "pygments_lexer": "ipython3",
   "version": "3.9.7"
  }
 },
 "nbformat": 4,
 "nbformat_minor": 5
}
