{
 "cells": [
  {
   "cell_type": "markdown",
   "metadata": {
    "colab_type": "text",
    "id": "view-in-github"
   },
   "source": [
    "<a href=\"https://colab.research.google.com/github/hiramaralIA/M2_CETAM_IA_AULAS_PYTHON-AVANCADO/blob/main/hcca_Function_03.ipynb\" target=\"_parent\"><img src=\"https://colab.research.google.com/assets/colab-badge.svg\" alt=\"Open In Colab\"/></a>"
   ]
  },
  {
   "cell_type": "markdown",
   "metadata": {
    "id": "Iv7PRbe6W68w"
   },
   "source": [
    "# Argumentos/Parâmetros da Função\n",
    "\n",
    "### Estrutura:"
   ]
  },
  {
   "cell_type": "raw",
   "metadata": {
    "id": "11KEOTKiW680"
   },
   "source": [
    "def minha_funcao(parametro1, parametro2, parametro3):\n",
    "    return parametro1 + parametro2 + parametro3"
   ]
  },
  {
   "cell_type": "markdown",
   "metadata": {
    "id": "Y4kYIjpTW680"
   },
   "source": [
    "- Exemplo: nosso famoso print"
   ]
  },
  {
   "cell_type": "code",
   "execution_count": null,
   "metadata": {
    "id": "PFo0_MhUW681"
   },
   "outputs": [],
   "source": []
  },
  {
   "cell_type": "markdown",
   "metadata": {
    "id": "UORQAa9aW682"
   },
   "source": [
    "- Só para mostrar o funcionamento, vamos criar uma função de soma"
   ]
  },
  {
   "cell_type": "code",
   "execution_count": null,
   "metadata": {
    "id": "xwn5_lcRW682"
   },
   "outputs": [],
   "source": []
  },
  {
   "cell_type": "markdown",
   "metadata": {
    "id": "2Dl08nErW682"
   },
   "source": [
    "- Vamos criar uma function com parâmetro\n",
    "\n",
    "Digamos que estamos criando um programa para categorizar os produtos de uma revendedora de bebidas.\n",
    "\n",
    "Cada produto tem um código. O tipo de produto é dado pelas 3 primeiras letras do código.\n",
    "\n",
    "Ex:<br>\n",
    "Vinho -> BEB12302<br>\n",
    "Cerveja -> BEB12043<br>\n",
    "Vodka -> BEB34501<br>\n",
    "\n",
    "Guaraná -> BSA11104<br>\n",
    "Coca -> BSA54301<br>\n",
    "Sprite -> BSA34012<br>\n",
    "Água -> BSA09871<br>\n",
    "\n",
    "Repare que bebidas não alcóolicas começam com BSA e bebidas alcoolicas começam com BEB.\n",
    "\n",
    "Crie um programa que analise uma lista de produtos e envie instruções para a equipe de estoque dizendo quais produtos devem ser enviados para a área de bebidas alcóolicas."
   ]
  },
  {
   "cell_type": "code",
   "execution_count": 80,
   "metadata": {
    "id": "NrwT2QgFW683",
    "outputId": "072bbfa6-2524-48b7-bdb3-9edbb16ef108"
   },
   "outputs": [
    {
     "name": "stdout",
     "output_type": "stream",
     "text": [
      "Produto beb46275 CONTÉM alcool!\n",
      "Produto BSA45510 NÃO TEM alcool!\n",
      "Produto BEB21365 CONTÉM alcool!\n",
      "Produto BEB31623 CONTÉM alcool!\n",
      "Produto BSA62419 NÃO TEM alcool!\n",
      "Produto BEB73344 CONTÉM alcool!\n",
      "Produto BEB80694 CONTÉM alcool!\n",
      "Produto BSA11769 NÃO TEM alcool!\n",
      "Produto BEB19495 CONTÉM alcool!\n",
      "Produto BSA33484 NÃO TEM alcool!\n",
      "Produto BEB97471 CONTÉM alcool!\n",
      "Produto BEB62362 CONTÉM alcool!\n",
      "Produto BEB85146 CONTÉM alcool!\n",
      "Produto BEB48898 CONTÉM alcool!\n",
      "Produto BEB79496 CONTÉM alcool!\n",
      "Produto BSA59251 NÃO TEM alcool!\n",
      "Produto BEB15385 CONTÉM alcool!\n",
      "Produto BEB24213 CONTÉM alcool!\n",
      "Produto BEB56262 CONTÉM alcool!\n",
      "Produto BSA96915 NÃO TEM alcool!\n",
      "Produto BEB75073 CONTÉM alcool!\n",
      "[0, 0, 11, 12, 19, 23, 37, 46, 64, 70, 72, 73, 75, 76, 81, 82, 82, 82, 82, 83, 84, 84, 85, 85, 87, 90, 91, 94, 94, 94, 95, 98, 99, 294, 756, 849, 865, 932, 973]\n"
     ]
    }
   ],
   "source": [
    "\n",
    "produtos = ['beb46275','TFA23962','TFA64715','TFA69555','TFA56743','BSA45510','TFA44968','CAR75448','CAR23596','CAR13490','BEB21365','BEB31623','BSA62419','BEB73344','TFA20079','BEB80694','BSA11769','BEB19495','TFA14792','TFA78043','BSA33484','BEB97471','BEB62362','TFA27311','TFA17715','BEB85146','BEB48898','BEB79496','CAR38417','TFA19947','TFA58799','CAR94811','BSA59251','BEB15385','BEB24213','BEB56262','BSA96915','CAR53454','BEB75073']\n",
    "produtos_alcoolicos = []\n",
    "produtos_sem_alcool = []\n",
    "def categoria(bebida, produto):\n",
    "    bebida = bebida.upper()\n",
    "    if produto in bebida:\n",
    "        return True\n",
    "    else:\n",
    "        return False\n",
    "\n",
    "for produto in produtos:\n",
    "    if categoria(produto, \"BEB\"):\n",
    "        print(f\"Produto {produto} CONTÉM alcool!\")\n",
    "        produtos_alcoolicos.append(produto)\n",
    "    elif categoria(produto, \"BSA\"):\n",
    "        print(f\"Produto {produto} NÃO TEM alcool!\")\n",
    "        produtos_sem_alcool.append(produto)\n",
    "\n"
   ]
  },
  {
   "cell_type": "code",
   "execution_count": 81,
   "metadata": {},
   "outputs": [
    {
     "name": "stdout",
     "output_type": "stream",
     "text": [
      "Quantidade de produtos\n",
      "39\n",
      "BEBIDAS ALCOOLICAS:\n",
      "['beb46275', 'BEB21365', 'BEB31623', 'BEB73344', 'BEB80694', 'BEB19495', 'BEB97471', 'BEB62362', 'BEB85146', 'BEB48898', 'BEB79496', 'BEB15385', 'BEB24213', 'BEB56262', 'BEB75073']\n",
      "BEBIDAS SEM ALCOOL\n",
      "['BSA45510', 'BSA62419', 'BSA11769', 'BSA33484', 'BSA59251', 'BSA96915']\n"
     ]
    }
   ],
   "source": [
    "qt_total = len(produtos)\n",
    "\n",
    "print(\"Quantidade de produtos\", qt_total, \"BEBIDAS ALCOOLICAS:\", produtos_alcoolicos,\"BEBIDAS SEM ALCOOL\", produtos_sem_alcool,  sep =\"\\n\")\n"
   ]
  },
  {
   "cell_type": "code",
   "execution_count": 87,
   "metadata": {},
   "outputs": [
    {
     "name": "stdout",
     "output_type": "stream",
     "text": [
      "ordem crescente\n",
      "[0, 0, 11, 12, 19, 23, 37, 46, 64, 70, 72, 73, 75, 76, 81, 82, 82, 82, 82, 83, 84, 84, 85, 85, 87, 90, 91, 94, 94, 94, 95, 98, 99, 294, 756, 849, 865, 932, 973]\n"
     ]
    }
   ],
   "source": [
    "vendas_produtos = [294, 19, 849, 973, 0, 99, 756, 64, 81, 91, 932, 85, 83, 82, 82, 94, 70, 94, 37 ,82, 94, 76, 75, 72, 0, 98, 85, 865, 84, 73, 11, 12, 23, 46, 84, 82, 95, 90, 87]\n",
    "vendas_produtos.sort()\n",
    "print(\"ordem crescente\")\n",
    "print(vendas_produtos, sep = \"\\n\")\n",
    "\n",
    "\n"
   ]
  },
  {
   "cell_type": "code",
   "execution_count": 86,
   "metadata": {},
   "outputs": [
    {
     "name": "stdout",
     "output_type": "stream",
     "text": [
      "lista invertida\n",
      "[87, 90, 95, 82, 84, 46, 23, 12, 11, 73, 84, 865, 85, 98, 0, 72, 75, 76, 94, 82, 37, 94, 70, 94, 82, 82, 83, 85, 932, 91, 81, 64, 756, 99, 0, 973, 849, 19, 294]\n"
     ]
    }
   ],
   "source": [
    "vendas_produtos = [294, 19, 849, 973, 0, 99, 756, 64, 81, 91, 932, 85, 83, 82, 82, 94, 70, 94, 37 ,82, 94, 76, 75, 72, 0, 98, 85, 865, 84, 73, 11, 12, 23, 46, 84, 82, 95, 90, 87]\n",
    "vendas_produtos.reverse()\n",
    "print(\"lista invertida\")\n",
    "print(vendas_produtos, sep = \"\\n\")"
   ]
  },
  {
   "cell_type": "code",
   "execution_count": 88,
   "metadata": {},
   "outputs": [
    {
     "name": "stdout",
     "output_type": "stream",
     "text": [
      "lista invertida\n",
      "[973, 932, 865, 849, 756, 294, 99, 98, 95, 94, 94, 94, 91, 90, 87, 85, 85, 84, 84, 83, 82, 82, 82, 82, 81, 76, 75, 73, 72, 70, 64, 46, 37, 23, 19, 12, 11, 0, 0]\n"
     ]
    }
   ],
   "source": [
    "vendas_produtos = [294, 19, 849, 973, 0, 99, 756, 64, 81, 91, 932, 85, 83, 82, 82, 94, 70, 94, 37 ,82, 94, 76, 75, 72, 0, 98, 85, 865, 84, 73, 11, 12, 23, 46, 84, 82, 95, 90, 87]\n",
    "vendas_produtos.sort(reverse = True)\n",
    "print(\"lista invertida\")\n",
    "print(vendas_produtos, sep = \"\\n\")"
   ]
  },
  {
   "cell_type": "code",
   "execution_count": 106,
   "metadata": {},
   "outputs": [
    {
     "name": "stdout",
     "output_type": "stream",
     "text": [
      "Primeiro numero: 2\n",
      "Segundo numero: 2\n",
      "Adicão           = 4\n",
      "Diferença        = 0\n",
      "Multiplicação    = 4\n",
      "Divisão          = 1.0\n",
      "Resto da divisão = 0\n",
      "Potência         = 4\n"
     ]
    }
   ],
   "source": [
    "def operações(n1, n2):\n",
    "    ad = n1 + n2\n",
    "    dif = n1 - n2\n",
    "    mult = n1 * n2\n",
    "    div = n1 / n2\n",
    "    res = n1%n2\n",
    "    pot = n1**n2\n",
    "    return(f\"Adicão           = {ad}\\nDiferença        = {dif}\\nMultiplicação    = {mult}\\nDivisão          = {round(div, 2)}\\nResto da divisão = {round(res, 2)}\\nPotência         = {pot}\")\n",
    "a = int(input(\"Primeiro numero: \"))\n",
    "b = int(input(\"Segundo numero: \"))\n",
    "\n",
    "print(operações(a, b))"
   ]
  },
  {
   "cell_type": "code",
   "execution_count": null,
   "metadata": {},
   "outputs": [],
   "source": []
  }
 ],
 "metadata": {
  "colab": {
   "include_colab_link": true,
   "name": "Function 03.ipynb",
   "provenance": []
  },
  "kernelspec": {
   "display_name": "Python 3 (ipykernel)",
   "language": "python",
   "name": "python3"
  },
  "language_info": {
   "codemirror_mode": {
    "name": "ipython",
    "version": 3
   },
   "file_extension": ".py",
   "mimetype": "text/x-python",
   "name": "python",
   "nbconvert_exporter": "python",
   "pygments_lexer": "ipython3",
   "version": "3.9.7"
  }
 },
 "nbformat": 4,
 "nbformat_minor": 1
}
