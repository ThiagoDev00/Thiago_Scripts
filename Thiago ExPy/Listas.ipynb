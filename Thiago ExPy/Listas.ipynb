{
 "cells": [
  {
   "cell_type": "code",
   "execution_count": 1,
   "id": "599970aa",
   "metadata": {
    "scrolled": false
   },
   "outputs": [
    {
     "name": "stdout",
     "output_type": "stream",
     "text": [
      "[[1, 2, 3], [4, 5, 6], [7, 8, 9]]\n"
     ]
    }
   ],
   "source": [
    "lista1 = [1, 2, 3]\n",
    "lista2 = [4, 5, 6]\n",
    "lista3 = [7, 8, 9]\n",
    "\n",
    "listas = [lista1, lista2, lista3]\n",
    "\n",
    "print(listas)"
   ]
  },
  {
   "cell_type": "code",
   "execution_count": 16,
   "id": "ab55b590",
   "metadata": {
    "scrolled": true
   },
   "outputs": [
    {
     "name": "stdout",
     "output_type": "stream",
     "text": [
      "Escolha uma fruta: awda\n",
      "Fruta não encontrada! Tente em outra loja.\n"
     ]
    }
   ],
   "source": [
    "frutas = [\"maçã\", \"peira\", \"abacaxi\", \"limão\", \"melancia\", \"melão\", \"uva\"]\n",
    "preço_uni = [0.70, 0.90, 1.00, 5.20, 0.30, 0.60, 0.80]\n",
    "fruta = input(str(\"Escolha uma fruta: \"))\n",
    "\n",
    "if fruta in frutas:\n",
    "    f = frutas.index(fruta)\n",
    "    p = preço_uni[f]\n",
    "    print(f\"Fruta = {fruta}\\nPreço = R${p}\")\n",
    "else:\n",
    "    print(f\"Fruta não encontrada! Tente em outra loja.\")\n"
   ]
  },
  {
   "cell_type": "code",
   "execution_count": 28,
   "id": "f8bb8560",
   "metadata": {
    "scrolled": true
   },
   "outputs": [
    {
     "name": "stdout",
     "output_type": "stream",
     "text": [
      "Adicione um produto: 123\n",
      "['tv', 'celular', 'videogame', '123']\n"
     ]
    }
   ],
   "source": [
    "produtos = [\"tv\", \"celular\", \"videogame\"]\n",
    "add = input(str(\"Adicione um produto: \"))\n",
    "produtos.append(add)\n",
    "\n",
    "print(produtO)"
   ]
  },
  {
   "cell_type": "code",
   "execution_count": 40,
   "id": "844dcf7b",
   "metadata": {},
   "outputs": [
    {
     "name": "stdout",
     "output_type": "stream",
     "text": [
      "['tv', 'celular', 'videogame']\n",
      "['celular', 'videogame']\n",
      "tv\n"
     ]
    }
   ],
   "source": [
    "produtos = [\"tv\", \"celular\", \"videogame\"]\n",
    "print(produtos)\n",
    "var = produtos.pop(0)\n",
    "print(produtos)\n",
    "print(var)"
   ]
  },
  {
   "cell_type": "code",
   "execution_count": 41,
   "id": "b17e1474",
   "metadata": {},
   "outputs": [
    {
     "name": "stdout",
     "output_type": "stream",
     "text": [
      "Digite algo para remover da lista de produtos: tv\n",
      "Você removeu tv da lista\n",
      "Nova lista = ['celular', 'videogame']\n"
     ]
    }
   ],
   "source": [
    "produtos = [\"tv\", \"celular\", \"videogame\"]\n",
    "item = input(str(\"Digite algo para remover da lista de produtos: \"))\n",
    "\n",
    "try:\n",
    "    produtos.remove(item)\n",
    "    print(f\"Você removeu {item} da lista\\nNova lista = {produtos}\")\n",
    "except:\n",
    "    print(\"Esse produto não existe!\")"
   ]
  },
  {
   "cell_type": "code",
   "execution_count": 42,
   "id": "12846a8b",
   "metadata": {},
   "outputs": [
    {
     "name": "stdout",
     "output_type": "stream",
     "text": [
      "[1, 2, 3, 4, 5, 6, 7, 8, 9, 10, 11, 12]\n",
      "12\n",
      "12\n",
      "1\n"
     ]
    }
   ],
   "source": [
    "meses = [\"janeiro\", \"fevereiro\", \"março\", \"abril\", \"maio\", \"junho\" , \"julho\", \"agosto\", \"setembro\", \"outubro\", \"novembro\", \"dezembro\"]\n",
    "lista1 = [1, 2, 3, 4, 5, 6,]\n",
    "lista2 = [7, 8, 9, 10, 11, 12]\n",
    "\n",
    "lista1.extend(lista2)\n",
    "\n",
    "print(lista1)\n",
    "\n",
    "print(len(lista1))\n",
    "print(max(lista1))\n",
    "print(min(lista1))"
   ]
  },
  {
   "cell_type": "code",
   "execution_count": 46,
   "id": "b61c0690",
   "metadata": {},
   "outputs": [
    {
     "name": "stdout",
     "output_type": "stream",
     "text": [
      "[1, 2, 3, 4, 5, 6, 7, 8, 9, 10, 11, 12]\n",
      "12\n",
      "12\n",
      "1\n"
     ]
    }
   ],
   "source": [
    "meses = [\"janeiro\", \"fevereiro\", \"março\", \"abril\", \"maio\", \"junho\" , \"julho\", \"agosto\", \"setembro\", \"outubro\", \"novembro\", \"dezembro\"]\n",
    "lista1 = [1, 2, 3, 4, 5, 6,]\n",
    "lista2 = [7, 8, 9, 10, 11, 12]\n",
    "\n",
    "nova_lista = lista1 + lista2\n",
    "\n",
    "print(nova_lista)\n",
    "      \n",
    "print(len(nova_lista))\n",
    "print(max(nova_lista))\n",
    "print(min(nova_lista))"
   ]
  },
  {
   "cell_type": "code",
   "execution_count": null,
   "id": "d60b0d9e",
   "metadata": {},
   "outputs": [],
   "source": []
  }
 ],
 "metadata": {
  "kernelspec": {
   "display_name": "Python 3 (ipykernel)",
   "language": "python",
   "name": "python3"
  },
  "language_info": {
   "codemirror_mode": {
    "name": "ipython",
    "version": 3
   },
   "file_extension": ".py",
   "mimetype": "text/x-python",
   "name": "python",
   "nbconvert_exporter": "python",
   "pygments_lexer": "ipython3",
   "version": "3.9.7"
  }
 },
 "nbformat": 4,
 "nbformat_minor": 5
}
