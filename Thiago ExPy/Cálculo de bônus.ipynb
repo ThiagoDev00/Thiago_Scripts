{
 "cells": [
  {
   "cell_type": "code",
   "execution_count": null,
   "id": "74213fa7",
   "metadata": {
    "scrolled": true
   },
   "outputs": [
    {
     "name": "stdout",
     "output_type": "stream",
     "text": [
      "nome do funionário: thiago\n",
      "Salário fixo do funcionário: 1000\n",
      "Valor em vendas: 3000\n",
      "===================================\n",
      "Parabens thiago! Você atingiu a meta!\n",
      "Você recebeu um bônus de 10%\n",
      "Bônus = 1300.0\n",
      "XXXXXXXXXXXXXXXXXXXXXXXXXXXXXXXXXXX\n"
     ]
    }
   ],
   "source": [
    "#Lista para que o for execute o programa 3 vezes.\n",
    "#Constantes\n",
    "codigo = ['f0', 'f1', 'f2'] #Lista\n",
    "reajuste1 = int(10)\n",
    "meta = int(1000)\n",
    "\n",
    "for codigo in ['f0', 'f1', 'f2']:\n",
    "        \n",
    "    #informações do funcionário\n",
    "    nome = input(str(\"nome do funionário: \")).strip()\n",
    "    salario_fx = int(input(\"Salário fixo do funcionário: \"))\n",
    "    valor_vendas = int(input(\"Valor em vendas : \"))\n",
    "    \n",
    "    #Operação com variaveis e constantes para que assim resulte um novo salário\n",
    "    novo_salario = salario_fx + (valor_vendas * reajuste1)/100\n",
    "    \n",
    "    print(\"===================================\") #Apenas para organizar.\n",
    "    \n",
    "    #Se funcionário bater a meta ou for superior a meta, funcionário recebe promoção de 10%\n",
    "    if valor_vendas >= meta:\n",
    "       \n",
    "        print(f\"Parabens {nome}! Você atingiu a meta!\")\n",
    "        print(f\"Você recebeu um bônus de 10%\\nBônus = {novo_salario}\")\n",
    "        print(\"XXXXXXXXXXXXXXXXXXXXXXXXXXXXXXXXXXX\") #Apenas para organizar.\n",
    "    \n",
    "    #Se funcionário não atingir a meta. Exiba\n",
    "    else:\n",
    "    \n",
    "        print(f\"{nome}, infelizmente você não atingiu a meta\\nNão há bônus algum para você!\")\n",
    "        print(\"XXXXXXXXXXXXXXXXXXXXXXXXXXXXXXXXXXX\") #Apenas para organizar.\n",
    "    "
   ]
  },
  {
   "cell_type": "code",
   "execution_count": null,
   "id": "fc790f46",
   "metadata": {},
   "outputs": [],
   "source": []
  }
 ],
 "metadata": {
  "kernelspec": {
   "display_name": "Python 3 (ipykernel)",
   "language": "python",
   "name": "python3"
  },
  "language_info": {
   "codemirror_mode": {
    "name": "ipython",
    "version": 3
   },
   "file_extension": ".py",
   "mimetype": "text/x-python",
   "name": "python",
   "nbconvert_exporter": "python",
   "pygments_lexer": "ipython3",
   "version": "3.9.7"
  }
 },
 "nbformat": 4,
 "nbformat_minor": 5
}
