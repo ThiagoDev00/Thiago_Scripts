{
 "cells": [
  {
   "cell_type": "code",
   "execution_count": 5,
   "id": "9cfc2735",
   "metadata": {},
   "outputs": [
    {
     "name": "stdout",
     "output_type": "stream",
     "text": [
      "4.2\n",
      "25\n"
     ]
    }
   ],
   "source": [
    "print((2 ** 4 + 5)/5)\n",
    "print((5 * 5) * (7% 7))"
   ]
  },
  {
   "cell_type": "code",
   "execution_count": 6,
   "id": "7996165a",
   "metadata": {},
   "outputs": [
    {
     "name": "stdout",
     "output_type": "stream",
     "text": [
      "Escreva seu nome: thiago\n",
      "Prazer te conhecer, thiago!\n"
     ]
    }
   ],
   "source": [
    "nome = input(str(\"Escreva seu nome: \"))\n",
    "\n",
    "print(f\"Prazer te conhecer, {nome}!\")"
   ]
  },
  {
   "cell_type": "code",
   "execution_count": 12,
   "id": "be05a020",
   "metadata": {
    "scrolled": false
   },
   "outputs": [
    {
     "name": "stdout",
     "output_type": "stream",
     "text": [
      "FATURAMENTO TOTAL = R$420.0\n",
      "LUCRO             = R$-2080.0\n",
      "MARGEM            = R$-4.9523809523809526\n"
     ]
    }
   ],
   "source": [
    "Qt_vendas_coca = input(int(\"Qual é a quantidade da coca?\"))\n",
    "Qt_vendas_pepsi = input(int(\"Qual a quantidade de pepsi?\"))\n",
    "\n",
    "Pç_unitario_coca = float(1.50)\n",
    "Pç_unitario_pepsi = float(1.50)\n",
    "\n",
    "custo_da_loja = float(2500)\n",
    "                      \n",
    "ft_coca = Qt_vendas_coca * Pç_unitario_coca\n",
    "ft_pepsi = Qt_vendas_pepsi * Pç_unitario_pepsi\n",
    "ft_total = ft_coca + ft_pepsi\n",
    "                      \n",
    "lucro = ft_total - custo_da_loja\n",
    "\n",
    "margem = lucro / ft_total\n",
    "\n",
    "print(f\"FATURAMENTO TOTAL = R${ft_total}\")\n",
    "print(f\"LUCRO             = R${lucro}\")\n",
    "print(f\"MARGEM            = R${margem}\")\n",
    "                      \n",
    "                      "
   ]
  },
  {
   "cell_type": "code",
   "execution_count": null,
   "id": "ee700241",
   "metadata": {},
   "outputs": [],
   "source": []
  }
 ],
 "metadata": {
  "kernelspec": {
   "display_name": "Python 3 (ipykernel)",
   "language": "python",
   "name": "python3"
  },
  "language_info": {
   "codemirror_mode": {
    "name": "ipython",
    "version": 3
   },
   "file_extension": ".py",
   "mimetype": "text/x-python",
   "name": "python",
   "nbconvert_exporter": "python",
   "pygments_lexer": "ipython3",
   "version": "3.9.7"
  }
 },
 "nbformat": 4,
 "nbformat_minor": 5
}
