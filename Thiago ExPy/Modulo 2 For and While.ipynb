{
 "cells": [
  {
   "cell_type": "code",
   "execution_count": null,
   "id": "5badb778",
   "metadata": {},
   "outputs": [],
   "source": [
    "while True:\n",
    "    print(\"Loop infinito\\n\")"
   ]
  },
  {
   "cell_type": "code",
   "execution_count": 1,
   "id": "8c3aa537",
   "metadata": {},
   "outputs": [
    {
     "name": "stdout",
     "output_type": "stream",
     "text": [
      "Adicione um nome à lista: Thiago\n"
     ]
    }
   ],
   "source": [
    "lista = ['Fernanda', 'Hiram', 'Nicole']\n",
    "while 'Thiago' not in lista:\n",
    "    nome = input(str(\"Adicione um nome à lista: \"))\n",
    "    lista.append(nome)"
   ]
  },
  {
   "cell_type": "code",
   "execution_count": 23,
   "id": "1876a3b9",
   "metadata": {},
   "outputs": [
    {
     "name": "stdout",
     "output_type": "stream",
     "text": [
      "Thiago está presente? (S/N)S\n",
      "joão está presente? (S/N)s\n",
      "Marcos está presente? (S/N)N\n",
      "Lucas está presente? (S/N)n\n",
      "Katlen está presente? (S/N)S\n",
      "amanda está presente? (S/N)S\n",
      "Lucas está presente? (S/N)a\n",
      "Thalles está presente? (S/N)n\n",
      "Alunos ['Thiago', 'joão', 'Marcos', 'Lucas', 'Katlen', 'amanda', 'Lucas', 'Thalles']\n",
      "Total = 8\n",
      "-----------------------------------------------------------------------------------------------------------------------\n",
      "Alunos presentes = ['Thiago', 'joão', 'Katlen', 'amanda']\n",
      "Total = 4\n",
      "-----------------------------------------------------------------------------------------------------------------------\n",
      "Alunos faltosos = ['Marcos', 'Lucas', 'Thalles']\n",
      "Total = 3\n"
     ]
    }
   ],
   "source": [
    "alunos = [\"Thiago\", \"joão\", \"Marcos\", \"Lucas\", \"Katlen\", \"amanda\", \"Thalles\"]\n",
    "presentes = []\n",
    "faltosos = []\n",
    "\n",
    "\n",
    "for aluno in alunos:\n",
    "    i = input(str(f\"{aluno} está presente? (S/N)\"))\n",
    "    \n",
    "    if i == \"S\" or i == \"s\":\n",
    "        presentes.append(aluno)\n",
    "    elif i == \"N\" or i == \"n\":\n",
    "        faltosos.append(aluno)\n",
    "print(f\"Alunos {alunos}\")\n",
    "print(f\"Total = {len(alunos)}\")\n",
    "print(\"-----------------------------------------------------------------------------------------------------------------------\")\n",
    "print(f\"Alunos presentes = {presentes}\")\n",
    "print(f\"Total = {len(presentes)}\")\n",
    "print(\"-----------------------------------------------------------------------------------------------------------------------\")\n",
    "print(f\"Alunos faltosos = {faltosos}\")\n",
    "print(f\"Total = {len(faltosos)}\")    "
   ]
  },
  {
   "cell_type": "code",
   "execution_count": 15,
   "id": "72664747",
   "metadata": {},
   "outputs": [
    {
     "name": "stdout",
     "output_type": "stream",
     "text": [
      "Quantidade de pessoas: 2\n",
      "Digite Nome: thiago\n",
      "Digite CPF: 21490824091\n",
      "Digite Nome: nicole\n",
      "Digite CPF: 2109120\n",
      "['Nome: thiago, CPF: 21490824091', 'Nome: nicole, CPF: 2109120']\n"
     ]
    }
   ],
   "source": [
    "qt_hospedes = int(input(\"Quantidade de pessoas: \"))\n",
    "nomes = []\n",
    "dado = []\n",
    "nome_cpf = []\n",
    "d = qt_hospedes\n",
    "\n",
    "for pessoas in range(qt_hospedes):\n",
    "        nome = input('Digite Nome: ')\n",
    "        \n",
    "        CPF = str(input('Digite CPF: '))\n",
    "        \n",
    "        nome_cpf.append(f\"Nome: {nome}, CPF: {CPF}\")\n",
    "             \n",
    "print(nome_cpf)\n",
    "\n",
    "    \n",
    "    "
   ]
  },
  {
   "cell_type": "code",
   "execution_count": null,
   "id": "f2d94055",
   "metadata": {},
   "outputs": [],
   "source": []
  },
  {
   "cell_type": "code",
   "execution_count": null,
   "id": "0b5f3f4f",
   "metadata": {},
   "outputs": [],
   "source": []
  }
 ],
 "metadata": {
  "kernelspec": {
   "display_name": "Python 3 (ipykernel)",
   "language": "python",
   "name": "python3"
  },
  "language_info": {
   "codemirror_mode": {
    "name": "ipython",
    "version": 3
   },
   "file_extension": ".py",
   "mimetype": "text/x-python",
   "name": "python",
   "nbconvert_exporter": "python",
   "pygments_lexer": "ipython3",
   "version": "3.9.7"
  }
 },
 "nbformat": 4,
 "nbformat_minor": 5
}
