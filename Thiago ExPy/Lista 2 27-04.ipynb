{
 "cells": [
  {
   "cell_type": "code",
   "execution_count": 11,
   "id": "269aad1b",
   "metadata": {},
   "outputs": [
    {
     "name": "stdout",
     "output_type": "stream",
     "text": [
      "O valor do imposto a ser pago é de 80000.0\n"
     ]
    }
   ],
   "source": [
    "produtos = ['cafeteira','notebook','livro','monitor','celular','tv']\n",
    "\n",
    "qt_vendas_e_preço = [\n",
    "    [5000, 10],\n",
    "    [40000, 50],\n",
    "    [10000, 80],\n",
    "    [75000, 20],\n",
    "    [100000, 150],\n",
    "    [500000, 90]\n",
    "]\n",
    "\n",
    "if 'livro' in produtos:\n",
    "    i_livro = produtos.index('livro')\n",
    "    lista = qt_vendas_e_preço[i_livro][0] * qt_vendas_e_preço[i_livro][1]\n",
    "    qt_vendas_e_preço[i_livro][1] = qt_vendas_e_preço[i_livro][1] * 1.1\n",
    "    lista_nova = qt_vendas_e_preço[i_livro][0] * qt_vendas_e_preço[i_livro][1]\n",
    "    print(\"O valor do imposto a ser pago é de {}\".format(lista_nova - lista))\n",
    "  "
   ]
  },
  {
   "cell_type": "code",
   "execution_count": null,
   "id": "ab433918",
   "metadata": {},
   "outputs": [],
   "source": []
  }
 ],
 "metadata": {
  "kernelspec": {
   "display_name": "Python 3 (ipykernel)",
   "language": "python",
   "name": "python3"
  },
  "language_info": {
   "codemirror_mode": {
    "name": "ipython",
    "version": 3
   },
   "file_extension": ".py",
   "mimetype": "text/x-python",
   "name": "python",
   "nbconvert_exporter": "python",
   "pygments_lexer": "ipython3",
   "version": "3.9.7"
  }
 },
 "nbformat": 4,
 "nbformat_minor": 5
}
