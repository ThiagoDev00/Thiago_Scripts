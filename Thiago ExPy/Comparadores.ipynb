{
 "cells": [
  {
   "cell_type": "markdown",
   "id": "7b80e3fd",
   "metadata": {},
   "source": [
    "# comparadores\n",
    "\n",
    "==  igual\n",
    "!=  diferente\n",
    ">   maior que (>= maior ou igual)\n",
    "<   menor que (>= menor ou igual)\n",
    "in  (teste existe dentro de texto?)\n",
    "not (verifica o contrário da comparação)\n",
    "and (quando duas ou mais tem ser verdadeira, ou as duas falsas)\n",
    "or  (quando não há necessidade de duas concordarem, mas pelo menos uma tem que ser verdadeira ou falsa)"
   ]
  }
 ],
 "metadata": {
  "kernelspec": {
   "display_name": "Python 3 (ipykernel)",
   "language": "python",
   "name": "python3"
  },
  "language_info": {
   "codemirror_mode": {
    "name": "ipython",
    "version": 3
   },
   "file_extension": ".py",
   "mimetype": "text/x-python",
   "name": "python",
   "nbconvert_exporter": "python",
   "pygments_lexer": "ipython3",
   "version": "3.9.7"
  }
 },
 "nbformat": 4,
 "nbformat_minor": 5
}
