{
 "cells": [
  {
   "cell_type": "code",
   "execution_count": 1,
   "id": "847538bb",
   "metadata": {
    "scrolled": false
   },
   "outputs": [
    {
     "name": "stdout",
     "output_type": "stream",
     "text": [
      "Nome no produto: cerveja\n",
      "Digite o valor de vendas: 100\n",
      "[['cerveja', 100]]\n",
      "Nome no produto: thiago\n",
      "Digite o valor de vendas: 3\n",
      "[['cerveja', 100], ['thiago', 3]]\n",
      "Nome no produto: \n"
     ]
    }
   ],
   "source": [
    "vendas = []\n",
    "\n",
    "while True:\n",
    "    produto = input(str(\"Nome no produto: \"))\n",
    "    if not produto:\n",
    "        break\n",
    "    valor = int(input(\"Digite o valor de vendas: \"))\n",
    "    vendas.append([produto, valor])\n",
    "    print(vendas)"
   ]
  },
  {
   "cell_type": "code",
   "execution_count": null,
   "id": "7a1e83bb",
   "metadata": {},
   "outputs": [],
   "source": []
  }
 ],
 "metadata": {
  "kernelspec": {
   "display_name": "Python 3 (ipykernel)",
   "language": "python",
   "name": "python3"
  },
  "language_info": {
   "codemirror_mode": {
    "name": "ipython",
    "version": 3
   },
   "file_extension": ".py",
   "mimetype": "text/x-python",
   "name": "python",
   "nbconvert_exporter": "python",
   "pygments_lexer": "ipython3",
   "version": "3.9.7"
  }
 },
 "nbformat": 4,
 "nbformat_minor": 5
}
