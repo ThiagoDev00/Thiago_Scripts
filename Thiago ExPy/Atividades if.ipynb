{
 "cells": [
  {
   "cell_type": "code",
   "execution_count": 1,
   "id": "02c07f5e",
   "metadata": {},
   "outputs": [
    {
     "name": "stdout",
     "output_type": "stream",
     "text": [
      "Vendas funcionário: 1000\n",
      "Bonus = 100.0\n",
      "Vendas funcionário: 770\n",
      "Bônus = 0\n",
      "Vendas funcionário: 1700\n",
      "Bonus = 170.0\n"
     ]
    }
   ],
   "source": [
    "for n in range(0, 3):\n",
    "    meta = 1000\n",
    "    vendas = int(input(\"Vendas funcionário: \"))\n",
    "    if vendas >= meta:\n",
    "        bonus = 0.10 * vendas\n",
    "        print(f\"Bonus = {bonus}\")\n",
    "    else:\n",
    "        bonus = 0\n",
    "        print(f\"Bônus = {bonus}\")"
   ]
  },
  {
   "cell_type": "code",
   "execution_count": 3,
   "id": "669e0162",
   "metadata": {
    "scrolled": true
   },
   "outputs": [
    {
     "name": "stdout",
     "output_type": "stream",
     "text": [
      "Nome: Thiago \n",
      "Salário fixo: 1212\n",
      "Vendas: 2000\n",
      "====================================\n",
      "Parabéns Thiago !\n",
      "Bônus = R$300.0\n",
      "Salário total = R$1512.0\n",
      "====================================\n",
      "Nome: Hiram\n",
      "Salário fixo: 1212\n",
      "Vendas: 1800\n",
      "====================================\n",
      "Parabéns Hiram!\n",
      "Bônus = R$180.0\n",
      "Salário total = R$1392.0\n",
      "====================================\n",
      "Nome: Maria\n",
      "Salário fixo: 1212\n",
      "Vendas: 999\n",
      "====================================\n",
      "Bônus + R$0\n",
      "Salário total = R$1212\n",
      "====================================\n"
     ]
    }
   ],
   "source": [
    "for n in range(0, 3):\n",
    "    meta = 2000\n",
    "    nome = input(str(\"Nome: \"))\n",
    "    salariofx = int(input(\"Salário fixo: \"))\n",
    "    vendas = int(input(\"Vendas: \"))\n",
    "    print(\"====================================\")\n",
    "    if vendas >= meta:\n",
    "        bonus = 0.15 * vendas\n",
    "        novo_salario = salariofx + bonus\n",
    "        print(f\"Parabéns {nome}!\\nBônus = R${bonus}\\nSalário total = R${novo_salario}\")\n",
    "        print(\"====================================\")\n",
    "    elif vendas < meta and vendas >= 1000:\n",
    "        bonus = 0.10 * vendas \n",
    "        novo_salario = salariofx + bonus\n",
    "        print(f\"Parabéns {nome}!\\nBônus = R${bonus}\\nSalário total = R${novo_salario}\")\n",
    "        print(\"====================================\")\n",
    "    else:\n",
    "        bonus = 0\n",
    "        novo_salario = salariofx + bonus\n",
    "        print(f\"Bônus = R${bonus}\\nSalário total = R${novo_salario}\")\n",
    "        print(\"====================================\")"
   ]
  },
  {
   "cell_type": "code",
   "execution_count": 1,
   "id": "0022b535",
   "metadata": {},
   "outputs": [
    {
     "name": "stdout",
     "output_type": "stream",
     "text": [
      "Digite um usuário de login: taouaojbdaoidubadba\n"
     ]
    }
   ],
   "source": [
    "login = input(str(\"Digite um usuário de login: \"))\n",
    "\n",
    "if (len(login)) <= 10:\n",
    "    print(\"O nome do usuário está nos padrões!\")\n"
   ]
  },
  {
   "cell_type": "code",
   "execution_count": null,
   "id": "44c44f28",
   "metadata": {},
   "outputs": [],
   "source": []
  },
  {
   "cell_type": "code",
   "execution_count": null,
   "id": "1ca779ac",
   "metadata": {},
   "outputs": [],
   "source": []
  }
 ],
 "metadata": {
  "kernelspec": {
   "display_name": "Python 3 (ipykernel)",
   "language": "python",
   "name": "python3"
  },
  "language_info": {
   "codemirror_mode": {
    "name": "ipython",
    "version": 3
   },
   "file_extension": ".py",
   "mimetype": "text/x-python",
   "name": "python",
   "nbconvert_exporter": "python",
   "pygments_lexer": "ipython3",
   "version": "3.9.7"
  }
 },
 "nbformat": 4,
 "nbformat_minor": 5
}
