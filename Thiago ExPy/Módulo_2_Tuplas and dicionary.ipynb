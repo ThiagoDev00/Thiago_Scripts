{
 "cells": [
  {
   "cell_type": "code",
   "execution_count": 3,
   "id": "4882f67f",
   "metadata": {},
   "outputs": [
    {
     "name": "stdout",
     "output_type": "stream",
     "text": [
      "Nome = Thiago\n",
      "Curso = IA - PYTHON\n",
      "Data de nascimento = 12/11/2004\n",
      "Profissão = Estudante\n",
      "Salário = 1000\n"
     ]
    }
   ],
   "source": [
    "dados = ('Thiago', 'IA - PYTHON', '12/11/2004', 'Estudante', 1000)\n",
    "nome, curso, data_de_nascimento, profissao, bolsa = dados\n",
    "\n",
    "print(f\"Nome = {nome}\")\n",
    "print(f\"Curso = {curso}\")\n",
    "print(f\"Data de nascimento = {data_de_nascimento}\")\n",
    "print(f\"Profissão = {profissao}\")\n",
    "print(f\"Salário = {bolsa}\")\n"
   ]
  },
  {
   "cell_type": "code",
   "execution_count": 6,
   "id": "6229499d",
   "metadata": {},
   "outputs": [
    {
     "name": "stdout",
     "output_type": "stream",
     "text": [
      "João vendeu 1000 unidades\n",
      "Lira vendeu 2000 unidades\n",
      "Ana vendeu 300 unidades\n",
      "Maria vendeu 300 unidades\n",
      "Paula vendeu 150 unidades\n"
     ]
    }
   ],
   "source": [
    "\n",
    "vendas = [1000, 2000, 300, 300, 150]\n",
    "funcionarios = ['João', 'Lira', 'Ana', 'Maria', 'Paula']\n",
    "\n",
    "for i, venda in enumerate(vendas):\n",
    "        print('{} vendeu {} unidades'.format(funcionarios[i], venda))"
   ]
  },
  {
   "cell_type": "code",
   "execution_count": null,
   "id": "745772f9",
   "metadata": {},
   "outputs": [],
   "source": []
  }
 ],
 "metadata": {
  "kernelspec": {
   "display_name": "Python 3 (ipykernel)",
   "language": "python",
   "name": "python3"
  },
  "language_info": {
   "codemirror_mode": {
    "name": "ipython",
    "version": 3
   },
   "file_extension": ".py",
   "mimetype": "text/x-python",
   "name": "python",
   "nbconvert_exporter": "python",
   "pygments_lexer": "ipython3",
   "version": "3.9.7"
  }
 },
 "nbformat": 4,
 "nbformat_minor": 5
}
