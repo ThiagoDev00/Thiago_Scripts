{
 "cells": [
  {
   "cell_type": "code",
   "execution_count": 71,
   "id": "aa0a2189",
   "metadata": {
    "scrolled": true
   },
   "outputs": [
    {
     "name": "stdout",
     "output_type": "stream",
     "text": [
      "[25000, 29000, 22200, 17750, 15870, 19900, 19850, 20120, 17540, 15555, 49051, 9650]\n"
     ]
    }
   ],
   "source": [
    "meses = ['jan', 'fev', 'mar', 'abr', 'mai', 'jun', 'jul', 'ago', 'set', 'out', 'nov', 'dez']\n",
    "vendas_1sem = [25000, 29000, 22200, 17750, 15870, 19900]\n",
    "vendas_2sem = [19850, 20120, 17540, 15555, 49051, 9650]\n",
    "\n",
    "vendas_1sem.extend(vendas_2sem)\n",
    "\n",
    "print(vendas_1sem)"
   ]
  },
  {
   "cell_type": "code",
   "execution_count": 38,
   "id": "2fb2fcd6",
   "metadata": {},
   "outputs": [
    {
     "name": "stdout",
     "output_type": "stream",
     "text": [
      "valores = [25000, 29000, 22200, 17750, 15870, 19900, 19850, 20120, 17540, 15555, 49051, 9650]\n",
      "Melhor valor = 49051\n",
      "pior valor = 9650\n"
     ]
    }
   ],
   "source": [
    "meses = ['jan', 'fev', 'mar', 'abr', 'mai', 'jun', 'jul', 'ago', 'set', 'out', 'nov', 'dez']\n",
    "vendas_1sem = [25000, 29000, 22200, 17750, 15870, 19900]\n",
    "vendas_2sem = [19850, 20120, 17540, 15555, 49051, 9650]\n",
    "\n",
    "vendas_1sem.extend(vendas_2sem)\n",
    "maxi = max(vendas_1sem)\n",
    "mini = min(vendas_1sem)\n",
    "\n",
    "print(f\"valores = {vendas_1sem}\")\n",
    "print(f\"Melhor valor = {maxi}\")\n",
    "print(f\"pior valor = {mini}\")"
   ]
  },
  {
   "cell_type": "code",
   "execution_count": 64,
   "id": "7ea480ff",
   "metadata": {},
   "outputs": [
    {
     "name": "stdout",
     "output_type": "stream",
     "text": [
      "Melhor Mês = R$nov\n",
      "Melhor Valor = R$49051\n",
      "xxxxxxxxxxxxxxxxxxxxxxxxxxxxx\n",
      "Pior Mês = R$dez \n",
      "Pior valor = R$9650\n",
      "Faturamento total = R$261,486\n",
      "Maior valor correponde 18.76%\n"
     ]
    }
   ],
   "source": [
    "meses = ['jan', 'fev', 'mar', 'abr', 'mai', 'jun', 'jul', 'ago', 'set', 'out', 'nov', 'dez']\n",
    "vendas_1sem = [25000, 29000, 22200, 17750, 15870, 19900]\n",
    "vendas_2sem = [19850, 20120, 17540, 15555, 49051, 9650]\n",
    "\n",
    "vendas_1sem.extend(vendas_2sem)\n",
    "\n",
    "maxi = max(vendas_1sem)\n",
    "mini = min(vendas_1sem)\n",
    "\n",
    "i_maxi = vendas_1sem.index(maxi)\n",
    "i_mini = vendas_1sem.index(mini)\n",
    "\n",
    "mx = meses[i_maxi]\n",
    "mn = meses[i_mini]\n",
    "\n",
    "soma = sum(vendas_1sem)\n",
    "\n",
    "print(f\"Melhor Mês = R${mx}\")\n",
    "print(f\"Melhor Valor = R${maxi}\")\n",
    "print(\"xxxxxxxxxxxxxxxxxxxxxxxxxxxxx\")\n",
    "print(f\"Pior Mês = R${mn} \")\n",
    "print(f\"Pior valor = R${mini}\")\n",
    "print(\"xxxxxxxxxxxxxxxxxxxxxxxxxxxxx\")\n",
    "print(\"Faturamento total = R${:,}\".format(soma))\n",
    "print(\"Maior valor correponde {:.2%}\".format(maxi/soma))"
   ]
  },
  {
   "cell_type": "code",
   "execution_count": 82,
   "id": "40813646",
   "metadata": {},
   "outputs": [
    {
     "name": "stdout",
     "output_type": "stream",
     "text": [
      "[25000, 29000, 22200, 17750, 15870, 19900, 19850, 20120, 17540, 15555, 49051, 9650]\n",
      "[22200, 17750, 15870, 19900, 19850, 20120, 17540, 15555, 9650]\n",
      "[49051, 29000, 25000]\n"
     ]
    }
   ],
   "source": [
    "meses = ['jan', 'fev', 'mar', 'abr', 'mai', 'jun', 'jul', 'ago', 'set', 'out', 'nov', 'dez']\n",
    "vendas_1sem = [25000, 29000, 22200, 17750, 15870, 19900]\n",
    "vendas_2sem = [19850, 20120, 17540, 15555, 49051, 9650]\n",
    "\n",
    "vendas_1sem.extend(vendas_2sem)\n",
    "\n",
    "top3=[]\n",
    "\n",
    "print(vendas_1sem)\n",
    "\n",
    "maior_valor = max(vendas_1sem)\n",
    "top3.append(maior_valor)\n",
    "\n",
    "vendas_1sem.remove(maior_valor)\n",
    "\n",
    "maior_valor = max(vendas_1sem)\n",
    "top3.append(maior_valor)\n",
    "\n",
    "vendas_1sem.remove(maior_valor)\n",
    "\n",
    "maior_valor = max(vendas_1sem)\n",
    "top3.append(maior_valor)\n",
    "\n",
    "vendas_1sem.remove(maior_valor)\n",
    "\n",
    "print(vendas_1sem)\n",
    "\n",
    "print(top3)\n",
    "\n",
    "\n",
    "\n",
    "\n"
   ]
  },
  {
   "cell_type": "code",
   "execution_count": null,
   "id": "5fcd32ae",
   "metadata": {},
   "outputs": [],
   "source": []
  },
  {
   "cell_type": "code",
   "execution_count": null,
   "id": "76649f03",
   "metadata": {},
   "outputs": [],
   "source": []
  },
  {
   "cell_type": "code",
   "execution_count": null,
   "id": "857438ba",
   "metadata": {},
   "outputs": [],
   "source": []
  }
 ],
 "metadata": {
  "kernelspec": {
   "display_name": "Python 3 (ipykernel)",
   "language": "python",
   "name": "python3"
  },
  "language_info": {
   "codemirror_mode": {
    "name": "ipython",
    "version": 3
   },
   "file_extension": ".py",
   "mimetype": "text/x-python",
   "name": "python",
   "nbconvert_exporter": "python",
   "pygments_lexer": "ipython3",
   "version": "3.9.7"
  }
 },
 "nbformat": 4,
 "nbformat_minor": 5
}
