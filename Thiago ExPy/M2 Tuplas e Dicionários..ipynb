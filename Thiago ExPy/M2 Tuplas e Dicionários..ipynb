{
 "cells": [
  {
   "cell_type": "code",
   "execution_count": 1,
   "id": "f02f44cc",
   "metadata": {},
   "outputs": [
    {
     "name": "stdout",
     "output_type": "stream",
     "text": [
      "thiago 12\n"
     ]
    }
   ],
   "source": [
    "tupla = ('thiago', 12)\n",
    "nome = tupla[0]\n",
    "idade = tupla[1]\n",
    "\n",
    "print(nome, idade)"
   ]
  },
  {
   "cell_type": "code",
   "execution_count": 1,
   "id": "a718bd94",
   "metadata": {},
   "outputs": [
    {
     "name": "stdout",
     "output_type": "stream",
     "text": [
      "João vendeu 1000 unidades\n",
      "Lira vendeu 2000 unidades\n",
      "Ana vendeu 300 unidades\n",
      "Maria vendeu 300 unidades\n",
      "Paula vendeu 150 unidades\n"
     ]
    }
   ],
   "source": [
    "vendas = [1000, 2000, 300, 300, 150]\n",
    "funcionarios = ['João', 'Lira', 'Ana', 'Maria', 'Paula']\n",
    "\n",
    "for i, venda in enumerate(vendas):\n",
    "        print('{} vendeu {} unidades'.format(funcionarios[i], venda))"
   ]
  },
  {
   "cell_type": "code",
   "execution_count": 4,
   "id": "8221bb92",
   "metadata": {},
   "outputs": [
    {
     "name": "stdout",
     "output_type": "stream",
     "text": [
      "thiago ainda é menor de idade.\n",
      "amanda é um adulto\n",
      "lucas é um adulto\n",
      "fernando ainda é menor de idade.\n"
     ]
    }
   ],
   "source": [
    "nome = ('thiago', 'amanda', 'lucas', 'fernando')\n",
    "idade = (17, 22, 18, 17)\n",
    "\n",
    "for i, pessoa in enumerate(idade):\n",
    "    if pessoa >= 18:\n",
    "        print(f\"{nome[i]} é um adulto\")\n",
    "    elif pessoa < 18:\n",
    "        print(f\"{nome[i]} ainda é menor de idade.\")"
   ]
  },
  {
   "cell_type": "code",
   "execution_count": 29,
   "id": "1089f38c",
   "metadata": {},
   "outputs": [
    {
     "name": "stdout",
     "output_type": "stream",
     "text": [
      "{'nome': 'name', 'maçã': 'apple', 'celular': 'cellphone'}\n"
     ]
    },
    {
     "data": {
      "text/plain": [
       "'\"Atividade Estoque.ipynb\"'"
      ]
     },
     "execution_count": 29,
     "metadata": {},
     "output_type": "execute_result"
    }
   ],
   "source": [
    "dicionario_de_palavras = {}\n",
    "dicionario_de_palavras['nome'] = 'name'\n",
    "dicionario_de_palavras['maçã'] = 'apple'\n",
    "dicionario_de_palavras['celular'] = 'cellphone'\n",
    "\n",
    "print(dicionario_de_palavras)\n",
    "\n"
   ]
  },
  {
   "cell_type": "code",
   "execution_count": 3,
   "id": "ffcc75bd",
   "metadata": {},
   "outputs": [
    {
     "ename": "KeyboardInterrupt",
     "evalue": "Interrupted by user",
     "output_type": "error",
     "traceback": [
      "\u001b[1;31m---------------------------------------------------------------------------\u001b[0m",
      "\u001b[1;31mKeyboardInterrupt\u001b[0m                         Traceback (most recent call last)",
      "\u001b[1;32m~\\AppData\\Local\\Temp/ipykernel_7868/3110549312.py\u001b[0m in \u001b[0;36m<module>\u001b[1;34m\u001b[0m\n\u001b[0;32m     14\u001b[0m \u001b[1;33m\u001b[0m\u001b[0m\n\u001b[0;32m     15\u001b[0m \u001b[1;32mwhile\u001b[0m \u001b[0mcomando\u001b[0m \u001b[1;33m!=\u001b[0m \u001b[1;34m\"sair\"\u001b[0m\u001b[1;33m:\u001b[0m\u001b[1;33m\u001b[0m\u001b[1;33m\u001b[0m\u001b[0m\n\u001b[1;32m---> 16\u001b[1;33m     \u001b[0mcomando\u001b[0m \u001b[1;33m=\u001b[0m \u001b[0minput\u001b[0m\u001b[1;33m(\u001b[0m\u001b[1;34m'Digite qual função deseja realizar:'\u001b[0m\u001b[1;33m)\u001b[0m\u001b[1;33m\u001b[0m\u001b[1;33m\u001b[0m\u001b[0m\n\u001b[0m\u001b[0;32m     17\u001b[0m \u001b[1;33m\u001b[0m\u001b[0m\n\u001b[0;32m     18\u001b[0m     \u001b[1;32mif\u001b[0m \u001b[0mcomando\u001b[0m \u001b[1;33m==\u001b[0m \u001b[1;34m\"adicionar\"\u001b[0m\u001b[1;33m:\u001b[0m\u001b[1;33m\u001b[0m\u001b[1;33m\u001b[0m\u001b[0m\n",
      "\u001b[1;32m~\\Anaconda3\\lib\\site-packages\\ipykernel\\kernelbase.py\u001b[0m in \u001b[0;36mraw_input\u001b[1;34m(self, prompt)\u001b[0m\n\u001b[0;32m   1004\u001b[0m                 \u001b[1;34m\"raw_input was called, but this frontend does not support input requests.\"\u001b[0m\u001b[1;33m\u001b[0m\u001b[1;33m\u001b[0m\u001b[0m\n\u001b[0;32m   1005\u001b[0m             )\n\u001b[1;32m-> 1006\u001b[1;33m         return self._input_request(\n\u001b[0m\u001b[0;32m   1007\u001b[0m             \u001b[0mstr\u001b[0m\u001b[1;33m(\u001b[0m\u001b[0mprompt\u001b[0m\u001b[1;33m)\u001b[0m\u001b[1;33m,\u001b[0m\u001b[1;33m\u001b[0m\u001b[1;33m\u001b[0m\u001b[0m\n\u001b[0;32m   1008\u001b[0m             \u001b[0mself\u001b[0m\u001b[1;33m.\u001b[0m\u001b[0m_parent_ident\u001b[0m\u001b[1;33m[\u001b[0m\u001b[1;34m\"shell\"\u001b[0m\u001b[1;33m]\u001b[0m\u001b[1;33m,\u001b[0m\u001b[1;33m\u001b[0m\u001b[1;33m\u001b[0m\u001b[0m\n",
      "\u001b[1;32m~\\Anaconda3\\lib\\site-packages\\ipykernel\\kernelbase.py\u001b[0m in \u001b[0;36m_input_request\u001b[1;34m(self, prompt, ident, parent, password)\u001b[0m\n\u001b[0;32m   1049\u001b[0m             \u001b[1;32mexcept\u001b[0m \u001b[0mKeyboardInterrupt\u001b[0m\u001b[1;33m:\u001b[0m\u001b[1;33m\u001b[0m\u001b[1;33m\u001b[0m\u001b[0m\n\u001b[0;32m   1050\u001b[0m                 \u001b[1;31m# re-raise KeyboardInterrupt, to truncate traceback\u001b[0m\u001b[1;33m\u001b[0m\u001b[1;33m\u001b[0m\u001b[0m\n\u001b[1;32m-> 1051\u001b[1;33m                 \u001b[1;32mraise\u001b[0m \u001b[0mKeyboardInterrupt\u001b[0m\u001b[1;33m(\u001b[0m\u001b[1;34m\"Interrupted by user\"\u001b[0m\u001b[1;33m)\u001b[0m \u001b[1;32mfrom\u001b[0m \u001b[1;32mNone\u001b[0m\u001b[1;33m\u001b[0m\u001b[1;33m\u001b[0m\u001b[0m\n\u001b[0m\u001b[0;32m   1052\u001b[0m             \u001b[1;32mexcept\u001b[0m \u001b[0mException\u001b[0m\u001b[1;33m:\u001b[0m\u001b[1;33m\u001b[0m\u001b[1;33m\u001b[0m\u001b[0m\n\u001b[0;32m   1053\u001b[0m                 \u001b[0mself\u001b[0m\u001b[1;33m.\u001b[0m\u001b[0mlog\u001b[0m\u001b[1;33m.\u001b[0m\u001b[0mwarning\u001b[0m\u001b[1;33m(\u001b[0m\u001b[1;34m\"Invalid Message:\"\u001b[0m\u001b[1;33m,\u001b[0m \u001b[0mexc_info\u001b[0m\u001b[1;33m=\u001b[0m\u001b[1;32mTrue\u001b[0m\u001b[1;33m)\u001b[0m\u001b[1;33m\u001b[0m\u001b[1;33m\u001b[0m\u001b[0m\n",
      "\u001b[1;31mKeyboardInterrupt\u001b[0m: Interrupted by user"
     ]
    }
   ],
   "source": [
    "lista_de_contatos = {}\n",
    "\n",
    "comando = 'continuar'\n",
    "def funcao():\n",
    "    nome = input(str(\"Nome: \")).strip()\n",
    "    numero = input(str(\"Número: \")).strip()\n",
    "    email = input(str(\"Email:\")).strip()\n",
    "        \n",
    "    lista_de_contatos[nome.lower()] = {\n",
    "            \"Nome\" : nome,\n",
    "            \"Número\" : numero,\n",
    "            \"Email\"  : email    \n",
    "    }\n",
    "        \n",
    "while comando != \"sair\":\n",
    "    comando = input('Digite qual função deseja realizar:')\n",
    "    \n",
    "    if comando == \"adicionar\":\n",
    "        funcao()\n",
    "        \n",
    "        print(\"Contato Adicionado com êxito!\")\n",
    "        \n",
    "    elif comando == \"pesquisar\":\n",
    "        nome = input(str(\"Pesquise: \")).strip()\n",
    "        if nome in lista_de_contatos:\n",
    "            print(\"Contanto encontrado, vá em exibir lista\")\n",
    "            print(lista_de_contatos[nome])\n",
    "        else:\n",
    "            print(\"Contato não encontrado, vá em adicionar.\")\n",
    "    \n",
    "    elif comando == \"exibir lista\":\n",
    "        print(lista_de_contatos)\n",
    "    \n",
    "    elif comando == \"excluir contato\":\n",
    "        nome = input(\"Contato que deseja excluir: \")\n",
    "        del(lista_de_contatos[nome])\n",
    "        print(\"Contato apagado!\")\n",
    "    elif comando == \"atualizar\":\n",
    "        nome = input(\"Contato a ser atualizado: \")\n",
    "        del(lista_de_contatos[nome])\n",
    "        funcao()"
   ]
  },
  {
   "cell_type": "code",
   "execution_count": null,
   "id": "eadc6c45",
   "metadata": {},
   "outputs": [],
   "source": []
  },
  {
   "cell_type": "code",
   "execution_count": null,
   "id": "a7bab52b",
   "metadata": {},
   "outputs": [],
   "source": []
  }
 ],
 "metadata": {
  "kernelspec": {
   "display_name": "Python 3 (ipykernel)",
   "language": "python",
   "name": "python3"
  },
  "language_info": {
   "codemirror_mode": {
    "name": "ipython",
    "version": 3
   },
   "file_extension": ".py",
   "mimetype": "text/x-python",
   "name": "python",
   "nbconvert_exporter": "python",
   "pygments_lexer": "ipython3",
   "version": "3.9.7"
  }
 },
 "nbformat": 4,
 "nbformat_minor": 5
}
