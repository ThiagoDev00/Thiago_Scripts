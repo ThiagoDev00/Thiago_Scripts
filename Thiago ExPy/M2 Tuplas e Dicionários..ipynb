{
 "cells": [
  {
   "cell_type": "code",
   "execution_count": 1,
   "id": "f02f44cc",
   "metadata": {},
   "outputs": [
    {
     "name": "stdout",
     "output_type": "stream",
     "text": [
      "thiago 12\n"
     ]
    }
   ],
   "source": [
    "tupla = ('thiago', 12)\n",
    "nome = tupla[0]\n",
    "idade = tupla[1]\n",
    "\n",
    "print(nome, idade)"
   ]
  },
  {
   "cell_type": "code",
   "execution_count": 1,
   "id": "a718bd94",
   "metadata": {},
   "outputs": [
    {
     "name": "stdout",
     "output_type": "stream",
     "text": [
      "João vendeu 1000 unidades\n",
      "Lira vendeu 2000 unidades\n",
      "Ana vendeu 300 unidades\n",
      "Maria vendeu 300 unidades\n",
      "Paula vendeu 150 unidades\n"
     ]
    }
   ],
   "source": [
    "vendas = [1000, 2000, 300, 300, 150]\n",
    "funcionarios = ['João', 'Lira', 'Ana', 'Maria', 'Paula']\n",
    "\n",
    "for i, venda in enumerate(vendas):\n",
    "        print('{} vendeu {} unidades'.format(funcionarios[i], venda))"
   ]
  },
  {
   "cell_type": "code",
   "execution_count": 4,
   "id": "8221bb92",
   "metadata": {},
   "outputs": [
    {
     "name": "stdout",
     "output_type": "stream",
     "text": [
      "thiago ainda é menor de idade.\n",
      "amanda é um adulto\n",
      "lucas é um adulto\n",
      "fernando ainda é menor de idade.\n"
     ]
    }
   ],
   "source": [
    "nome = ('thiago', 'amanda', 'lucas', 'fernando')\n",
    "idade = (17, 22, 18, 17)\n",
    "\n",
    "for i, pessoa in enumerate(idade):\n",
    "    if pessoa >= 18:\n",
    "        print(f\"{nome[i]} é um adulto\")\n",
    "    elif pessoa < 18:\n",
    "        print(f\"{nome[i]} ainda é menor de idade.\")"
   ]
  },
  {
   "cell_type": "code",
   "execution_count": 29,
   "id": "1089f38c",
   "metadata": {},
   "outputs": [
    {
     "name": "stdout",
     "output_type": "stream",
     "text": [
      "{'nome': 'name', 'maçã': 'apple', 'celular': 'cellphone'}\n"
     ]
    },
    {
     "data": {
      "text/plain": [
       "'\"Atividade Estoque.ipynb\"'"
      ]
     },
     "execution_count": 29,
     "metadata": {},
     "output_type": "execute_result"
    }
   ],
   "source": [
    "dicionario_de_palavras = {}\n",
    "dicionario_de_palavras['nome'] = 'name'\n",
    "dicionario_de_palavras['maçã'] = 'apple'\n",
    "dicionario_de_palavras['celular'] = 'cellphone'\n",
    "\n",
    "print(dicionario_de_palavras)\n",
    "\n"
   ]
  },
  {
   "cell_type": "code",
   "execution_count": null,
   "id": "ffcc75bd",
   "metadata": {},
   "outputs": [],
   "source": [
    "lista_de_contatos = {}\n",
    "\n",
    "comando = 'continuar'\n",
    "def funcao():\n",
    "    nome = input(str(\"Nome: \")).strip()\n",
    "    numero = input(str(\"Número: \")).strip()\n",
    "    email = input(str(\"Email:\")).strip()\n",
    "        \n",
    "    lista_de_contatos[nome.lower()] = {\n",
    "            \"Nome\" : nome,\n",
    "            \"Número\" : numero,\n",
    "            \"Email\"  : email    \n",
    "    }\n",
    "        \n",
    "while comando != \"sair\":\n",
    "    comando = input('Digite qual função deseja realizar:')\n",
    "    \n",
    "    if comando == \"adicionar\":\n",
    "        funcao()\n",
    "        \n",
    "        print(\"Contato Adicionado com êxito!\")\n",
    "        \n",
    "    elif comando == \"pesquisar\":\n",
    "        nome = input(str(\"Pesquise: \")).strip()\n",
    "        if nome in lista_de_contatos:\n",
    "            print(\"Contanto encontrado, vá em exibir lista\")\n",
    "            print(lista_de_contatos[nome])\n",
    "        else:\n",
    "            print(\"Contato não encontrado, vá em adicionar.\")\n",
    "    \n",
    "    elif comando == \"exibir lista\":\n",
    "        print(lista_de_contatos)\n",
    "    \n",
    "    elif comando == \"excluir contato\":\n",
    "        nome = input(\"Contato que deseja excluir: \")\n",
    "        del(lista_de_contatos[nome])\n",
    "        print(\"Contato apagado!\")\n",
    "    elif comando == \"atualizar\":\n",
    "        nome = input(\"Contato a ser atualizado: \")\n",
    "        del(lista_de_contatos[nome])\n",
    "        funcao()"
   ]
  },
  {
   "cell_type": "code",
   "execution_count": null,
   "id": "eadc6c45",
   "metadata": {},
   "outputs": [],
   "source": []
  },
  {
   "cell_type": "code",
   "execution_count": null,
   "id": "a7bab52b",
   "metadata": {},
   "outputs": [],
   "source": []
  }
 ],
 "metadata": {
  "kernelspec": {
   "display_name": "Python 3 (ipykernel)",
   "language": "python",
   "name": "python3"
  },
  "language_info": {
   "codemirror_mode": {
    "name": "ipython",
    "version": 3
   },
   "file_extension": ".py",
   "mimetype": "text/x-python",
   "name": "python",
   "nbconvert_exporter": "python",
   "pygments_lexer": "ipython3",
   "version": "3.9.7"
  }
 },
 "nbformat": 4,
 "nbformat_minor": 5
}
