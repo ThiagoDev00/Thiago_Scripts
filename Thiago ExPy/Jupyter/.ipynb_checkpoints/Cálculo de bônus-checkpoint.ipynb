{
 "cells": [
  {
   "cell_type": "code",
   "execution_count": 3,
   "id": "52e73e04",
   "metadata": {
    "scrolled": true
   },
   "outputs": [
    {
     "name": "stdout",
     "output_type": "stream",
     "text": [
      "nome do funionário: Thiago\n",
      "Salário fixo do funcionário: 1212\n",
      "Valor de vendas do funcionário: 2000\n",
      "===================================\n",
      "Parabens Thiago! Você atingiu a meta!\n",
      "Você recebeu um bônus de 10%\n",
      "Bônus = 1333.2\n",
      "XXXXXXXXXXXXXXXXXXXXXXXXXXXXXXXXXXX\n",
      "nome do funionário: Hiram\n",
      "Salário fixo do funcionário: 1212\n",
      "Valor de vendas do funcionário: 1999\n",
      "===================================\n",
      "Parabens Hiram! Você atingiu a meta!\n",
      "Você recebeu um bônus de 10%\n",
      "Bônus = 1333.2\n",
      "XXXXXXXXXXXXXXXXXXXXXXXXXXXXXXXXXXX\n",
      "nome do funionário: maria \n",
      "Salário fixo do funcionário: 1212\n",
      "Valor de vendas do funcionário: 999\n",
      "===================================\n",
      "maria, infelizmente você não atingiu a meta\n",
      "Não há bônus algum para você!\n",
      "XXXXXXXXXXXXXXXXXXXXXXXXXXXXXXXXXXX\n"
     ]
    }
   ],
   "source": [
    "#Lista para que o for execute o programa 3 vezes.\n",
    "#Constantes\n",
    "codigo = ['f0', 'f1', 'f2'] #Lista\n",
    "reajuste = int(10)\n",
    "meta = int(1000)\n",
    "\n",
    "for codigo in ['f0', 'f1', 'f2']:\n",
    "    #informações do funcionário\n",
    "    nome = input(str(\"nome do funionário: \")).strip()\n",
    "    salario_fx = int(input(\"Salário fixo do funcionário: \"))\n",
    "    valor_vendas = int(input(\"Valor de vendas do funcionário: \"))\n",
    "    \n",
    "    #Operação com variaveis e constantes para que assim resulte um novo salário\n",
    "    novo_salario = salario_fx + (salario_fx * reajuste)/100\n",
    "    \n",
    "    print(\"===================================\") #Apenas para organizar.\n",
    "    \n",
    "    #Se funcionário bater a meta ou for superior a meta, funcionário recebe promoção de 10%\n",
    "    if valor_vendas >= meta:\n",
    "        print(f\"Parabens {nome}! Você atingiu a meta!\")\n",
    "        print(f\"Você recebeu um bônus de 10%\\nBônus = {novo_salario}\")\n",
    "        print(\"XXXXXXXXXXXXXXXXXXXXXXXXXXXXXXXXXXX\") #Apenas para organizar.\n",
    "    \n",
    "    #Se funcionário não atingir a meta. Exiba\n",
    "    else:\n",
    "    \n",
    "        print(f\"{nome}, infelizmente você não atingiu a meta\\nNão há bônus algum para você!\")\n",
    "        print(\"XXXXXXXXXXXXXXXXXXXXXXXXXXXXXXXXXXX\") #Apenas para organizar.\n",
    "    "
   ]
  },
  {
   "cell_type": "code",
   "execution_count": null,
   "id": "35d41052",
   "metadata": {},
   "outputs": [],
   "source": []
  },
  {
   "cell_type": "code",
   "execution_count": null,
   "id": "b9ee7ba1",
   "metadata": {},
   "outputs": [],
   "source": []
  }
 ],
 "metadata": {
  "kernelspec": {
   "display_name": "Python 3 (ipykernel)",
   "language": "python",
   "name": "python3"
  },
  "language_info": {
   "codemirror_mode": {
    "name": "ipython",
    "version": 3
   },
   "file_extension": ".py",
   "mimetype": "text/x-python",
   "name": "python",
   "nbconvert_exporter": "python",
   "pygments_lexer": "ipython3",
   "version": "3.9.7"
  }
 },
 "nbformat": 4,
 "nbformat_minor": 5
}
