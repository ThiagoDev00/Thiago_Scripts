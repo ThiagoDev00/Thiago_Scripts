{
 "cells": [
  {
   "cell_type": "code",
   "execution_count": 6,
   "id": "8a39fa5a",
   "metadata": {},
   "outputs": [
    {
     "name": "stdout",
     "output_type": "stream",
     "text": [
      "Digite o seu CPF (use somente números): 123123123123123123\n",
      "Digite seu nome: thiago\n",
      "CPF invalido\n"
     ]
    }
   ],
   "source": [
    "CPF = str(input(\"Digite o seu CPF (use somente números): \"))\n",
    "\n",
    "if len(CPF) == 11 and CPF.isnumeric():\n",
    "    print(\"CPF válido!\")\n",
    "else:\n",
    "    print(\"CPF invalido\\nVerifique a quantidade de números e ponha somente numeros\")\n"
   ]
  },
  {
   "cell_type": "code",
   "execution_count": 21,
   "id": "586e8526",
   "metadata": {},
   "outputs": [
    {
     "name": "stdout",
     "output_type": "stream",
     "text": [
      "Digite o seu CPF (use somente números): 109827091273019730129\n",
      "CPF inválido \n",
      "Refaça o processo atento \n",
      "OBS: CPF tem que ter 11 numeros e todos tem que ser numero!\n"
     ]
    }
   ],
   "source": [
    "CPF = str(input(\"Digite o seu CPF (use somente números): \"))\n",
    "caracteres = [\".\",\"-\"]\n",
    "\n",
    "if (len(CPF) == 11) and (CPF.isnumeric()):\n",
    "    print(f\"CPF válido\\nCPF = {CPF[:-8]}.{CPF[3:6]}.{CPF[6:9]}-{CPF[9:11]}\")\n",
    "else:\n",
    "    print(\"CPF inválido \\nRefaça o processo atento \\nOBS: CPF deve ter apenas 11 números e apenas números!\")\n"
   ]
  },
  {
   "cell_type": "markdown",
   "id": "136a412a",
   "metadata": {},
   "source": [
    "## "
   ]
  }
 ],
 "metadata": {
  "kernelspec": {
   "display_name": "Python 3 (ipykernel)",
   "language": "python",
   "name": "python3"
  },
  "language_info": {
   "codemirror_mode": {
    "name": "ipython",
    "version": 3
   },
   "file_extension": ".py",
   "mimetype": "text/x-python",
   "name": "python",
   "nbconvert_exporter": "python",
   "pygments_lexer": "ipython3",
   "version": "3.9.7"
  }
 },
 "nbformat": 4,
 "nbformat_minor": 5
}
