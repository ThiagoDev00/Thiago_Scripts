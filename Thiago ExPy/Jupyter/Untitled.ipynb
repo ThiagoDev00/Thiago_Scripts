{
 "cells": [
  {
   "cell_type": "code",
   "execution_count": 6,
   "id": "3d9323df",
   "metadata": {},
   "outputs": [
    {
     "ename": "SyntaxError",
     "evalue": "invalid syntax (Temp/ipykernel_8952/3452442445.py, line 3)",
     "output_type": "error",
     "traceback": [
      "\u001b[1;36m  File \u001b[1;32m\"C:\\Users\\aluno10\\AppData\\Local\\Temp/ipykernel_8952/3452442445.py\"\u001b[1;36m, line \u001b[1;32m3\u001b[0m\n\u001b[1;33m    for f in [\"f0\" ,\"f1\" , \"f2\"]\u001b[0m\n\u001b[1;37m                                ^\u001b[0m\n\u001b[1;31mSyntaxError\u001b[0m\u001b[1;31m:\u001b[0m invalid syntax\n"
     ]
    }
   ],
   "source": [
    "f = [\"f0\" ,\"f1\" , \"f2\"]\n",
    "\n",
    "for f in [\"f0\" ,\"f1\" , \"f2\"]\n",
    "meta = 2000\n",
    "reajuste1 = 15\n",
    "reajuste2 = 10\n",
    "nome = str(input(\"Digite seu nome: \"))\n",
    "salario_fixo = int(input(\"Digite o seu salário fixo: \"))\n",
    "vendas = int(input(\"Digite o valor de vendas: \"))\n",
    "\n",
    "\n",
    "if vendas > 2000:\n",
    "    print(f\"Parabéns, você ganhou um bônus de 15%\\nNovo salário = {salario_fixo + (salario_fixo * reajuste1) / 100}\")\n",
    "elif (vendas < 2000) and (vendas > 1000):\n",
    "    print(f\"Parabéns, você ganhou um bônus de 15%\\nNovo salário = {salario_fixo + (salario_fixo * reajuste2) / 100}\")\n",
    "else:\n",
    "    print(\"Você não atingiu a meta. Portanto, não há bônus pra você!\")"
   ]
  },
  {
   "cell_type": "code",
   "execution_count": null,
   "id": "08f6d9e4",
   "metadata": {},
   "outputs": [],
   "source": []
  }
 ],
 "metadata": {
  "kernelspec": {
   "display_name": "Python 3 (ipykernel)",
   "language": "python",
   "name": "python3"
  },
  "language_info": {
   "codemirror_mode": {
    "name": "ipython",
    "version": 3
   },
   "file_extension": ".py",
   "mimetype": "text/x-python",
   "name": "python",
   "nbconvert_exporter": "python",
   "pygments_lexer": "ipython3",
   "version": "3.9.7"
  }
 },
 "nbformat": 4,
 "nbformat_minor": 5
}
