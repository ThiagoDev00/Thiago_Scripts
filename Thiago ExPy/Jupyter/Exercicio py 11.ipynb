{
 "cells": [
  {
   "cell_type": "code",
   "execution_count": 5,
   "id": "be05a020",
   "metadata": {
    "scrolled": false
   },
   "outputs": [
    {
     "name": "stdout",
     "output_type": "stream",
     "text": [
      "Qual é a quantidade da coca? 150\n",
      "Qual a quantidade de pepsi? 150\n",
      "===============x================\n",
      "FATURAMENTO TOTAL = R$450.0\n",
      "LUCRO             = R$-2050.0\n",
      "MARGEM            = R$-4.56\n",
      "===============x================\n"
     ]
    }
   ],
   "source": [
    "Qt_vendas_coca = int(input(\"Qual é a quantidade da coca? \"))\n",
    "Qt_vendas_pepsi = int(input(\"Qual a quantidade de pepsi? \"))\n",
    "\n",
    "Pç_unitario_coca = float(1.50)\n",
    "Pç_unitario_pepsi = float(1.50)\n",
    "\n",
    "custo_da_loja = float(2500)\n",
    "                      \n",
    "ft_coca = Qt_vendas_coca * Pç_unitario_coca\n",
    "ft_pepsi = Qt_vendas_pepsi * Pç_unitario_pepsi\n",
    "ft_total = ft_coca + ft_pepsi\n",
    "                      \n",
    "lucro = ft_total - custo_da_loja\n",
    "\n",
    "margem = lucro / ft_total\n",
    "\n",
    "\n",
    "print(\"===============x================\")\n",
    "print(f\"FATURAMENTO TOTAL = R${ft_total}\")\n",
    "print(f\"LUCRO             = R${lucro}\")\n",
    "print(f\"MARGEM            = R${round(margem, 2)}\")\n",
    "print(\"===============x================\")                      \n",
    "                      "
   ]
  }
 ],
 "metadata": {
  "kernelspec": {
   "display_name": "Python 3 (ipykernel)",
   "language": "python",
   "name": "python3"
  },
  "language_info": {
   "codemirror_mode": {
    "name": "ipython",
    "version": 3
   },
   "file_extension": ".py",
   "mimetype": "text/x-python",
   "name": "python",
   "nbconvert_exporter": "python",
   "pygments_lexer": "ipython3",
   "version": "3.9.7"
  }
 },
 "nbformat": 4,
 "nbformat_minor": 5
}
