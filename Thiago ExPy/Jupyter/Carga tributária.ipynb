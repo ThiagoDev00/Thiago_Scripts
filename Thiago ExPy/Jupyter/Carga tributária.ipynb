{
 "cells": [
  {
   "cell_type": "code",
   "execution_count": 86,
   "id": "441cb6ac",
   "metadata": {
    "scrolled": true
   },
   "outputs": [
    {
     "name": "stdout",
     "output_type": "stream",
     "text": [
      "livro (Quantidade/Preço) = [50000, 40]\n",
      "---------------------------------------------------\n",
      "Valor total antigo = R$ 2000000\n",
      "Valor do livro antigamente = R$ 50000\n",
      "---------------------------------------------------\n",
      "Valor total novo = R$ 2200000.0\n",
      "Valor do livro atualmente = R$ 44.0\n",
      "---------------------------------------------------\n",
      "O acréscimo no valor do imposto será de R$ 200000.0\n",
      "Isso representa 9.09%\n",
      "xxxxxxxxxxxxxxxxxxxxxxxxxxxxxxxxxxxxxxxxxxxxxxxxxxx\n",
      "[[10000, 2500], [50000, 40], [7000, 1200], [20000, 1500], [5800, 1300], [7200, 2500], [200, 800], [3300, 700], [1900, 400]]\n",
      "---------------------------------------------------\n",
      "[[10000, 2500], [50000, 44.0], [7000, 1200], [20000, 1500], [5800, 1300], [7200, 2500], [200, 800], [3300, 700], [1900, 400]]\n"
     ]
    }
   ],
   "source": [
    "produto = ['computador', 'livro', 'tablet', 'celular', 'tv', 'ar condicionado', 'alexa', 'máquina de café', 'kindle']\n",
    "\n",
    "qt_pc = [\n",
    "    [10000, 2500],\n",
    "    [50000, 40],\n",
    "    [7000, 1200],\n",
    "    [20000, 1500],\n",
    "    [5800, 1300],\n",
    "    [7200, 2500],\n",
    "    [200, 800],\n",
    "    [3300, 700],\n",
    "    [1900, 400]\n",
    "]\n",
    "\n",
    "#procura o indíce do item desejado, nesse caso o item desejado é \"livro\"\n",
    "num_produto = produto.index('livro')\n",
    "\n",
    "#Usa o valor do indíce de produto para pegar os valores de livro na lista qt_pc\n",
    "num_antigo = qt_pc[num_produto]\n",
    "\n",
    "#Faz a multiplicação da Quantidade x Preço\n",
    "preço_total_antigo = num_antigo[0] * num_antigo[1]\n",
    "\n",
    "#Gera o novo valor do livro com 10% de acréscimo sob o valor antigo\n",
    "num_novo = num_antigo[1] * 1.10 \n",
    "\n",
    "#Realiza o calculo = Quantidade x novo Preço\n",
    "preço_total_novo = num_antigo[0] * num_percentual\n",
    "\n",
    "#Dá a diferença entre os preços totais\n",
    "diferença = preço_total_novo - preço_total_antigo\n",
    "\n",
    "#Cria uma cópia de qt_pc\n",
    "lista_antiga = qt_pc.copy()\n",
    "\n",
    "i = [num_antigo[0], num_percentual]\n",
    "#Remove o valor sem acréscimo, e inserta o valor com acréscimo no local desejado, neste caso na posição 1\n",
    "qt_pc.remove(num_antigo)\n",
    "lista_adiciona = qt_pc.insert(1, i)\n",
    "\n",
    "\n",
    "\n",
    "print(f\"livro (Quantidade/Preço) = {num_antigo}\")\n",
    "print(\"---------------------------------------------------\")\n",
    "print(f\"Valor total antigo = R$ {preço_total_antigo}\")\n",
    "print(f\"Valor do livro antigamente = R$ {num_antigo[0]}\")\n",
    "print(\"---------------------------------------------------\")\n",
    "print(f\"Valor total novo = R$ {preço_total_novo}\")\n",
    "print(f\"Valor do livro atualmente = R$ {num_novo}\")\n",
    "print(\"---------------------------------------------------\")\n",
    "print(\"O acréscimo no valor do imposto será de R$ {}\\nIsso representa {:.2f}%\".format(diferença, (diferença / preço_total_novo) * 100))\n",
    "print(\"xxxxxxxxxxxxxxxxxxxxxxxxxxxxxxxxxxxxxxxxxxxxxxxxxxx\")\n",
    "print(lista_antiga)\n",
    "print(\"---------------------------------------------------\")\n",
    "print(qt_pc)\n",
    "\n",
    "\n"
   ]
  },
  {
   "cell_type": "code",
   "execution_count": null,
   "id": "b0ce2a3b",
   "metadata": {},
   "outputs": [],
   "source": []
  },
  {
   "cell_type": "code",
   "execution_count": null,
   "id": "cb9f2e22",
   "metadata": {},
   "outputs": [],
   "source": []
  }
 ],
 "metadata": {
  "kernelspec": {
   "display_name": "Python 3 (ipykernel)",
   "language": "python",
   "name": "python3"
  },
  "language_info": {
   "codemirror_mode": {
    "name": "ipython",
    "version": 3
   },
   "file_extension": ".py",
   "mimetype": "text/x-python",
   "name": "python",
   "nbconvert_exporter": "python",
   "pygments_lexer": "ipython3",
   "version": "3.9.7"
  }
 },
 "nbformat": 4,
 "nbformat_minor": 5
}
