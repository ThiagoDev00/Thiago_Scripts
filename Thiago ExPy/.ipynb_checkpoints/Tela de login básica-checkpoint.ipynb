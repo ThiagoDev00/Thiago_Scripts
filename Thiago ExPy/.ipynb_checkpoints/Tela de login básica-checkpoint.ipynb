{
 "cells": [
  {
   "cell_type": "code",
   "execution_count": 53,
   "id": "7a215a04",
   "metadata": {
    "scrolled": false
   },
   "outputs": [
    {
     "name": "stdout",
     "output_type": "stream",
     "text": [
      "1 - Cadastro.\n",
      "2 - login.\n",
      "3 - Finalizar o programa\n",
      "Digite o número desejado: 2\n",
      "Digite Usuario:gerente\n",
      "usuário encontrado!\n",
      "Digite senha:2303567\n"
     ]
    },
    {
     "ename": "TypeError",
     "evalue": "list indices must be integers or slices, not str",
     "output_type": "error",
     "traceback": [
      "\u001b[1;31m---------------------------------------------------------------------------\u001b[0m",
      "\u001b[1;31mTypeError\u001b[0m                                 Traceback (most recent call last)",
      "\u001b[1;32m~\\AppData\\Local\\Temp/ipykernel_2760/1635133085.py\u001b[0m in \u001b[0;36m<module>\u001b[1;34m\u001b[0m\n\u001b[0;32m     40\u001b[0m         \u001b[1;32mwhile\u001b[0m \u001b[0mcomando_password\u001b[0m \u001b[1;33m!=\u001b[0m \u001b[1;34m'sucesso'\u001b[0m\u001b[1;33m:\u001b[0m\u001b[1;33m\u001b[0m\u001b[1;33m\u001b[0m\u001b[0m\n\u001b[0;32m     41\u001b[0m             \u001b[0msenha\u001b[0m \u001b[1;33m=\u001b[0m \u001b[0mint\u001b[0m\u001b[1;33m(\u001b[0m\u001b[0minput\u001b[0m\u001b[1;33m(\u001b[0m\u001b[1;34m\"Digite senha:\"\u001b[0m\u001b[1;33m)\u001b[0m\u001b[1;33m)\u001b[0m\u001b[1;33m\u001b[0m\u001b[1;33m\u001b[0m\u001b[0m\n\u001b[1;32m---> 42\u001b[1;33m             \u001b[0me\u001b[0m \u001b[1;33m=\u001b[0m \u001b[0msenhas\u001b[0m\u001b[1;33m[\u001b[0m\u001b[0mlogin\u001b[0m\u001b[1;33m]\u001b[0m\u001b[1;33m\u001b[0m\u001b[1;33m\u001b[0m\u001b[0m\n\u001b[0m\u001b[0;32m     43\u001b[0m             \u001b[1;32mif\u001b[0m \u001b[1;33m(\u001b[0m\u001b[0msenha\u001b[0m \u001b[1;32min\u001b[0m \u001b[0me\u001b[0m\u001b[1;33m)\u001b[0m\u001b[1;33m:\u001b[0m\u001b[1;33m\u001b[0m\u001b[1;33m\u001b[0m\u001b[0m\n\u001b[0;32m     44\u001b[0m                 \u001b[0mprint\u001b[0m\u001b[1;33m(\u001b[0m\u001b[1;34m\"usuario logado com sucesso!\"\u001b[0m\u001b[1;33m)\u001b[0m\u001b[1;33m\u001b[0m\u001b[1;33m\u001b[0m\u001b[0m\n",
      "\u001b[1;31mTypeError\u001b[0m: list indices must be integers or slices, not str"
     ]
    }
   ],
   "source": [
    "usuarios = ['GERENTE']\n",
    "senhas = [2303567]\n",
    "\n",
    "\n",
    "    \n",
    "    \n",
    "comando = 0\n",
    "while comando != 3:\n",
    "    print('1 - Cadastro.\\n2 - login.\\n3 - Finalizar o programa')\n",
    "    comando = int(input(\"Digite o número desejado: \"))\n",
    "\n",
    "    if comando == 1:\n",
    "        novo_user = input(\"Digite novo usuario: \")\n",
    "        confirme_cadastro = 'erro'\n",
    "        while confirme_cadastro != 'sucesso':\n",
    "            senha_novo_user = int(input(f\"digite a senha para {novo_user}: \"))\n",
    "            confirme_senha_novo_user = int(input('confirme senha: '))\n",
    "            if senha_novo_user == confirme_senha_novo_user:\n",
    "                usuarios.append(novo_user)\n",
    "                senhas.append(senha_novo_user)\n",
    "                print(\"usuario registrado com sucesso!\")\n",
    "                confirme_cadastro = 'sucesso'\n",
    "                    \n",
    "            else:\n",
    "                print('Senhas NÃO coincidem!')\n",
    "                confirme_cadastro = 'erro'\n",
    "    elif comando == 2:\n",
    "        comando_password = 'erro'\n",
    "        comando_user = 'erro'\n",
    "        while comando_user != 'sucesso':\n",
    "            login = input(\"Digite Usuario:\").upper()\n",
    "            if login in usuarios:\n",
    "                print('usuário encontrado!')\n",
    "                i = usuarios.index(login)\n",
    "                comando_user = 'sucesso'\n",
    "            else:\n",
    "                print(\"Usuario NÃO encontrado!\")\n",
    "\n",
    "        comando_user= 'erro'\n",
    "        while comando_password != 'sucesso': \n",
    "            senha = int(input(\"Digite senha:\"))\n",
    "            e = senhas[i]\n",
    "            if (senha in e):\n",
    "                print(\"usuario logado com sucesso!\")\n",
    "                comando_password = 'sucesso'\n",
    "            else:\n",
    "                print(\"ERRO na senha!\")\n",
    "                    \n",
    "  \n",
    "    \n",
    "    \n",
    "            \n",
    "        \n"
   ]
  },
  {
   "cell_type": "code",
   "execution_count": 47,
   "id": "cd428b98",
   "metadata": {},
   "outputs": [
    {
     "ename": "IndentationError",
     "evalue": "unindent does not match any outer indentation level (<tokenize>, line 15)",
     "output_type": "error",
     "traceback": [
      "\u001b[1;36m  File \u001b[1;32m\"<tokenize>\"\u001b[1;36m, line \u001b[1;32m15\u001b[0m\n\u001b[1;33m    elif comando == 2:\u001b[0m\n\u001b[1;37m    ^\u001b[0m\n\u001b[1;31mIndentationError\u001b[0m\u001b[1;31m:\u001b[0m unindent does not match any outer indentation level\n"
     ]
    }
   ],
   "source": [
    "if comando == 1:\n",
    "            novo_user = input(\"Digite novo usuario: \")\n",
    "            confirme_cadastro = 'erro'\n",
    "            while confirme_cadastro != 'sucesso':\n",
    "                senha_novo_user = int(input(f\"digite a senha para {novo_user}: \"))\n",
    "                confirme_senha_novo_user = int(input('confirme senha: '))\n",
    "                if senha_novo_user == confirme_senha_novo_user:\n",
    "                    usuarios.append(novo_user)\n",
    "                    senhas.append(senha_novo_user)\n",
    "                    confirme_cadastro = 'sucesso'\n",
    "                    \n",
    "                else:\n",
    "                    print('Senhas NÃO coincidem!')\n",
    "                    confirme_cadastro = 'erro'\n",
    "        elif comando == 2:\n",
    "            comando_password = 'erro'\n",
    "            comando_user = 'erro'\n",
    "            while comando_user != 'sucesso':\n",
    "                login = input(\"Digite Usuario:\").upper()\n",
    "                if login in usuarios:\n",
    "                    print('usuário encontrado!')\n",
    "                    i = usuarios.index(login)\n",
    "                    comando_user = 'sucesso'\n",
    "                else:\n",
    "                    print(\"Usuario NÃO encontrado!\")\n",
    "\n",
    "            comando_user= 'erro'\n",
    "            while comando_password != 'sucesso': \n",
    "                senha = int(input(\"Digite senha:\"))\n",
    "                if (senha in senhas[i]):\n",
    "                    print(\"usuario logado com sucesso!\")\n",
    "                    comando_password = 'sucesso'\n",
    "                else:\n",
    "                    print(\"ERRO na senha!\")\n",
    "                "
   ]
  },
  {
   "cell_type": "code",
   "execution_count": null,
   "id": "afa7eeb0",
   "metadata": {},
   "outputs": [],
   "source": []
  }
 ],
 "metadata": {
  "kernelspec": {
   "display_name": "Python 3 (ipykernel)",
   "language": "python",
   "name": "python3"
  },
  "language_info": {
   "codemirror_mode": {
    "name": "ipython",
    "version": 3
   },
   "file_extension": ".py",
   "mimetype": "text/x-python",
   "name": "python",
   "nbconvert_exporter": "python",
   "pygments_lexer": "ipython3",
   "version": "3.9.7"
  }
 },
 "nbformat": 4,
 "nbformat_minor": 5
}
