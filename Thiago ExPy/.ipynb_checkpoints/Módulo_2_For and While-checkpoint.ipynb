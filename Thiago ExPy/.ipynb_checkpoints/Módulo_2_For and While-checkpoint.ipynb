{
 "cells": [
  {
   "cell_type": "code",
   "execution_count": 5,
   "id": "2fa7d1db",
   "metadata": {},
   "outputs": [
    {
     "name": "stdout",
     "output_type": "stream",
     "text": [
      "122\n",
      "300\n",
      "800\n",
      "1500\n",
      "1900\n",
      "2750\n",
      "400\n",
      "20\n",
      "23\n",
      "70\n",
      "90\n",
      "80\n",
      "1100\n",
      "999\n",
      "880\n",
      "870\n",
      "50\n",
      "1111\n",
      "120\n",
      "300\n",
      "540\n",
      "800\n"
     ]
    }
   ],
   "source": [
    "vendas = [122, 300, 800, 1500, 1900, 2750, 400, 20 , 23, 70, 90, 80, 1100, 999, 880, 870, 50, 1111, 120, 300, 540, 800]\n",
    "meta = 1000\n",
    "for venda in vendas:\n",
    "        print(venda)"
   ]
  },
  {
   "cell_type": "code",
   "execution_count": 7,
   "id": "a6510294",
   "metadata": {},
   "outputs": [
    {
     "name": "stdout",
     "output_type": "stream",
     "text": [
      "1500\n",
      "1900\n",
      "2750\n",
      "1100\n",
      "1111\n"
     ]
    }
   ],
   "source": [
    "for venda in vendas:\n",
    "    if venda >= meta:\n",
    "        print(venda)"
   ]
  },
  {
   "cell_type": "code",
   "execution_count": 18,
   "id": "3f591331",
   "metadata": {},
   "outputs": [
    {
     "name": "stdout",
     "output_type": "stream",
     "text": [
      "Parabéns maria você atingiu a meta com um total de R$1500\n",
      "Parabéns josé você atingiu a meta com um total de R$16000\n",
      "Parabéns jorge você atingiu a meta com um total de R$89600\n",
      "Total de funcioários que atingiram a meta = 3\n"
     ]
    }
   ],
   "source": [
    "vendedores = ['joão', 'lucas', 'thiago', 'maria', 'josé', 'jorge']\n",
    "vendas = [122, 300, 800, 1500, 16000, 89600]\n",
    "meta = 1000\n",
    "f = 0\n",
    "\n",
    "for venda in vendas:\n",
    "    if venda >= meta:\n",
    "        i = vendas.index(venda)\n",
    "        y = vendedores[i]\n",
    "        u = vendas[i]\n",
    "        f = f + 1\n",
    "        print(f\"Parabéns {y} você atingiu a meta com um total de R${u}\")\n",
    "print(f\"Total de funcioários que atingiram a meta = {f}\")\n",
    "        "
   ]
  },
  {
   "cell_type": "code",
   "execution_count": 49,
   "id": "e262d104",
   "metadata": {
    "scrolled": true
   },
   "outputs": [
    {
     "name": "stdout",
     "output_type": "stream",
     "text": [
      "Nome do Aluno: Thiago\n",
      "F = Faltasos/ P = Presentes: P\n",
      "Nome do Aluno: Hiram\n",
      "F = Faltasos/ P = Presentes: F\n",
      "Nome do Aluno: faws\n",
      "F = Faltasos/ P = Presentes: P\n",
      "['Thiago', 'Hiram', 'faws']\n",
      "Total de alunos = 3\n",
      "-----------------------------------------------------------------------------------------------------------------------\n",
      "Alunos presentes = ['Thiago', 'faws']\n",
      "Total de alunos presentes = 2\n",
      "-----------------------------------------------------------------------------------------------------------------------\n",
      "Alunos faltosos = ['Hiram']\n",
      "Total de alunos faltosos = -1\n",
      "-----------------------------------------------------------------------------------------------------------------------\n"
     ]
    }
   ],
   "source": [
    "alunos = []\n",
    "presentes = []\n",
    "a = 0\n",
    "faltosos = []\n",
    "f = 0\n",
    "\n",
    "for aluno in range(3):\n",
    "    nome = input(str(\"Nome do Aluno: \"))\n",
    "    alunos.append(nome)\n",
    "    presença = input(str(\"F = Faltasos/ P = Presentes: \"))\n",
    "    if (nome in alunos) and (presença == \"p\") or (presença == \"P\"):\n",
    "        a = a + 1\n",
    "        presentes.append(nome)\n",
    "    if (nome in alunos) and (presença == \"f\") or (presença == \"F\"):\n",
    "        f = f - 1\n",
    "        faltosos.append(nome)\n",
    "print(alunos)\n",
    "print(f\"Total de alunos = {len(alunos)}\")\n",
    "print(\"-----------------------------------------------------------------------------------------------------------------------\")\n",
    "print(f\"Alunos presentes = {presentes}\")\n",
    "print(f\"Total de alunos presentes = {a}\")\n",
    "print(\"-----------------------------------------------------------------------------------------------------------------------\")\n",
    "print(f\"Alunos faltosos = {faltosos}\")\n",
    "print(f\"Total de alunos faltosos = {f}\")\n",
    "print(\"-----------------------------------------------------------------------------------------------------------------------\")"
   ]
  },
  {
   "cell_type": "code",
   "execution_count": null,
   "id": "6157d187",
   "metadata": {},
   "outputs": [],
   "source": [
    "Qt_pessoas = input(str(\"Quantas pessoas irão se hospedar: \"))\n",
    "lista = []\n",
    "\n",
    "for hospedes in range(Qt_pessoas)\n",
    "    nome = input(str(\"Nome: \"))\n",
    "    lista.append(nome)\n",
    "    cpf = input(str(\"Digite seu CPF: \"))\n",
    "    \n"
   ]
  },
  {
   "cell_type": "code",
   "execution_count": null,
   "id": "57ed69ac",
   "metadata": {},
   "outputs": [],
   "source": []
  }
 ],
 "metadata": {
  "kernelspec": {
   "display_name": "Python 3 (ipykernel)",
   "language": "python",
   "name": "python3"
  },
  "language_info": {
   "codemirror_mode": {
    "name": "ipython",
    "version": 3
   },
   "file_extension": ".py",
   "mimetype": "text/x-python",
   "name": "python",
   "nbconvert_exporter": "python",
   "pygments_lexer": "ipython3",
   "version": "3.9.7"
  }
 },
 "nbformat": 4,
 "nbformat_minor": 5
}
