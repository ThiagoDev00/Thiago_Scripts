{
 "cells": [
  {
   "cell_type": "code",
   "execution_count": 7,
   "id": "9b883ca5",
   "metadata": {
    "scrolled": false
   },
   "outputs": [
    {
     "name": "stdout",
     "output_type": "stream",
     "text": [
      "Digite seu nome: ra\n",
      "Valor do produto: 1500\n",
      "O frete a ser pago é de 225.0\n",
      "resultando em = 1725.0\n"
     ]
    }
   ],
   "source": [
    "nome = str(input(\"Digite seu nome: \"))    #variável\n",
    "taxa = int(15)                            #constante\n",
    "produto = int(input(\"Valor do produto: \"))#variável\n",
    "resultado = (produto * taxa)/100          #operador lógico\n",
    "\n",
    "print(f\"O frete a ser pago é de {round(resultado, 3)}\\nResultando em = {round(resultado + produto, 2)}\")\n"
   ]
  }
 ],
 "metadata": {
  "kernelspec": {
   "display_name": "Python 3 (ipykernel)",
   "language": "python",
   "name": "python3"
  },
  "language_info": {
   "codemirror_mode": {
    "name": "ipython",
    "version": 3
   },
   "file_extension": ".py",
   "mimetype": "text/x-python",
   "name": "python",
   "nbconvert_exporter": "python",
   "pygments_lexer": "ipython3",
   "version": "3.9.7"
  }
 },
 "nbformat": 4,
 "nbformat_minor": 5
}
